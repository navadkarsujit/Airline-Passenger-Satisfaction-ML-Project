{
 "cells": [
  {
   "cell_type": "markdown",
   "id": "060faf01",
   "metadata": {},
   "source": [
    "# Importing Data"
   ]
  },
  {
   "cell_type": "code",
   "execution_count": 2,
   "id": "bba4e03e",
   "metadata": {},
   "outputs": [],
   "source": [
    "#import the necessary Libraries\n",
    "import pandas as pd\n",
    "import numpy as np\n",
    "import matplotlib.pyplot as plt\n",
    "%matplotlib inline\n",
    "import seaborn as sns\n",
    "\n",
    "from sklearn.preprocessing import LabelEncoder\n",
    "from sklearn.model_selection import train_test_split\n",
    "from sklearn.preprocessing import StandardScaler\n",
    "from sklearn.metrics import accuracy_score,classification_report,confusion_matrix\n",
    "from sklearn.linear_model import LogisticRegression\n",
    "from sklearn.tree import DecisionTreeClassifier\n",
    "from sklearn.ensemble import RandomForestClassifier\n",
    "from sklearn.svm import SVC\n",
    "from sklearn.neighbors import KNeighborsClassifier\n",
    "from sklearn.model_selection import GridSearchCV\n",
    "from sklearn.ensemble import ExtraTreesRegressor\n",
    "\n",
    "import warnings\n",
    "warnings.filterwarnings('ignore')"
   ]
  },
  {
   "cell_type": "code",
   "execution_count": 3,
   "id": "c915cb09",
   "metadata": {},
   "outputs": [],
   "source": [
    "df=pd.read_csv(\"Airline-Passenger-train.csv\")"
   ]
  },
  {
   "cell_type": "code",
   "execution_count": 4,
   "id": "14bea0f9",
   "metadata": {},
   "outputs": [
    {
     "data": {
      "text/html": [
       "<div>\n",
       "<style scoped>\n",
       "    .dataframe tbody tr th:only-of-type {\n",
       "        vertical-align: middle;\n",
       "    }\n",
       "\n",
       "    .dataframe tbody tr th {\n",
       "        vertical-align: top;\n",
       "    }\n",
       "\n",
       "    .dataframe thead th {\n",
       "        text-align: right;\n",
       "    }\n",
       "</style>\n",
       "<table border=\"1\" class=\"dataframe\">\n",
       "  <thead>\n",
       "    <tr style=\"text-align: right;\">\n",
       "      <th></th>\n",
       "      <th>Unnamed: 0</th>\n",
       "      <th>id</th>\n",
       "      <th>Gender</th>\n",
       "      <th>Customer Type</th>\n",
       "      <th>Age</th>\n",
       "      <th>Type of Travel</th>\n",
       "      <th>Class</th>\n",
       "      <th>Flight Distance</th>\n",
       "      <th>Inflight wifi service</th>\n",
       "      <th>Departure/Arrival time convenient</th>\n",
       "      <th>...</th>\n",
       "      <th>Inflight entertainment</th>\n",
       "      <th>On-board service</th>\n",
       "      <th>Leg room service</th>\n",
       "      <th>Baggage handling</th>\n",
       "      <th>Checkin service</th>\n",
       "      <th>Inflight service</th>\n",
       "      <th>Cleanliness</th>\n",
       "      <th>Departure Delay in Minutes</th>\n",
       "      <th>Arrival Delay in Minutes</th>\n",
       "      <th>satisfaction</th>\n",
       "    </tr>\n",
       "  </thead>\n",
       "  <tbody>\n",
       "    <tr>\n",
       "      <th>0</th>\n",
       "      <td>0</td>\n",
       "      <td>70172</td>\n",
       "      <td>Male</td>\n",
       "      <td>Loyal Customer</td>\n",
       "      <td>13.0</td>\n",
       "      <td>Personal Travel</td>\n",
       "      <td>Eco Plus</td>\n",
       "      <td>460</td>\n",
       "      <td>3.0</td>\n",
       "      <td>4</td>\n",
       "      <td>...</td>\n",
       "      <td>5</td>\n",
       "      <td>4</td>\n",
       "      <td>3.0</td>\n",
       "      <td>4</td>\n",
       "      <td>4</td>\n",
       "      <td>5</td>\n",
       "      <td>5.0</td>\n",
       "      <td>25</td>\n",
       "      <td>18.0</td>\n",
       "      <td>neutral or dissatisfied</td>\n",
       "    </tr>\n",
       "    <tr>\n",
       "      <th>1</th>\n",
       "      <td>1</td>\n",
       "      <td>5047</td>\n",
       "      <td>Male</td>\n",
       "      <td>disloyal Customer</td>\n",
       "      <td>25.0</td>\n",
       "      <td>Business travel</td>\n",
       "      <td>Business</td>\n",
       "      <td>235</td>\n",
       "      <td>3.0</td>\n",
       "      <td>2</td>\n",
       "      <td>...</td>\n",
       "      <td>1</td>\n",
       "      <td>1</td>\n",
       "      <td>5.0</td>\n",
       "      <td>3</td>\n",
       "      <td>1</td>\n",
       "      <td>4</td>\n",
       "      <td>1.0</td>\n",
       "      <td>1</td>\n",
       "      <td>6.0</td>\n",
       "      <td>neutral or dissatisfied</td>\n",
       "    </tr>\n",
       "    <tr>\n",
       "      <th>2</th>\n",
       "      <td>2</td>\n",
       "      <td>110028</td>\n",
       "      <td>Female</td>\n",
       "      <td>Loyal Customer</td>\n",
       "      <td>26.0</td>\n",
       "      <td>Business travel</td>\n",
       "      <td>Business</td>\n",
       "      <td>1142</td>\n",
       "      <td>2.0</td>\n",
       "      <td>2</td>\n",
       "      <td>...</td>\n",
       "      <td>5</td>\n",
       "      <td>4</td>\n",
       "      <td>3.0</td>\n",
       "      <td>4</td>\n",
       "      <td>4</td>\n",
       "      <td>4</td>\n",
       "      <td>5.0</td>\n",
       "      <td>0</td>\n",
       "      <td>0.0</td>\n",
       "      <td>satisfied</td>\n",
       "    </tr>\n",
       "    <tr>\n",
       "      <th>3</th>\n",
       "      <td>3</td>\n",
       "      <td>24026</td>\n",
       "      <td>Female</td>\n",
       "      <td>Loyal Customer</td>\n",
       "      <td>25.0</td>\n",
       "      <td>Business travel</td>\n",
       "      <td>Business</td>\n",
       "      <td>562</td>\n",
       "      <td>2.0</td>\n",
       "      <td>5</td>\n",
       "      <td>...</td>\n",
       "      <td>2</td>\n",
       "      <td>2</td>\n",
       "      <td>5.0</td>\n",
       "      <td>3</td>\n",
       "      <td>1</td>\n",
       "      <td>4</td>\n",
       "      <td>2.0</td>\n",
       "      <td>11</td>\n",
       "      <td>9.0</td>\n",
       "      <td>neutral or dissatisfied</td>\n",
       "    </tr>\n",
       "    <tr>\n",
       "      <th>4</th>\n",
       "      <td>4</td>\n",
       "      <td>119299</td>\n",
       "      <td>Male</td>\n",
       "      <td>Loyal Customer</td>\n",
       "      <td>61.0</td>\n",
       "      <td>Business travel</td>\n",
       "      <td>Business</td>\n",
       "      <td>214</td>\n",
       "      <td>3.0</td>\n",
       "      <td>3</td>\n",
       "      <td>...</td>\n",
       "      <td>3</td>\n",
       "      <td>3</td>\n",
       "      <td>4.0</td>\n",
       "      <td>4</td>\n",
       "      <td>3</td>\n",
       "      <td>3</td>\n",
       "      <td>3.0</td>\n",
       "      <td>0</td>\n",
       "      <td>0.0</td>\n",
       "      <td>satisfied</td>\n",
       "    </tr>\n",
       "    <tr>\n",
       "      <th>5</th>\n",
       "      <td>5</td>\n",
       "      <td>111157</td>\n",
       "      <td>Female</td>\n",
       "      <td>Loyal Customer</td>\n",
       "      <td>26.0</td>\n",
       "      <td>Personal Travel</td>\n",
       "      <td>Eco</td>\n",
       "      <td>1180</td>\n",
       "      <td>3.0</td>\n",
       "      <td>4</td>\n",
       "      <td>...</td>\n",
       "      <td>1</td>\n",
       "      <td>3</td>\n",
       "      <td>4.0</td>\n",
       "      <td>4</td>\n",
       "      <td>4</td>\n",
       "      <td>4</td>\n",
       "      <td>1.0</td>\n",
       "      <td>0</td>\n",
       "      <td>0.0</td>\n",
       "      <td>neutral or dissatisfied</td>\n",
       "    </tr>\n",
       "    <tr>\n",
       "      <th>6</th>\n",
       "      <td>6</td>\n",
       "      <td>82113</td>\n",
       "      <td>Male</td>\n",
       "      <td>Loyal Customer</td>\n",
       "      <td>47.0</td>\n",
       "      <td>Personal Travel</td>\n",
       "      <td>Eco</td>\n",
       "      <td>1276</td>\n",
       "      <td>2.0</td>\n",
       "      <td>4</td>\n",
       "      <td>...</td>\n",
       "      <td>2</td>\n",
       "      <td>3</td>\n",
       "      <td>3.0</td>\n",
       "      <td>4</td>\n",
       "      <td>3</td>\n",
       "      <td>5</td>\n",
       "      <td>2.0</td>\n",
       "      <td>9</td>\n",
       "      <td>23.0</td>\n",
       "      <td>neutral or dissatisfied</td>\n",
       "    </tr>\n",
       "    <tr>\n",
       "      <th>7</th>\n",
       "      <td>7</td>\n",
       "      <td>96462</td>\n",
       "      <td>Female</td>\n",
       "      <td>Loyal Customer</td>\n",
       "      <td>52.0</td>\n",
       "      <td>Business travel</td>\n",
       "      <td>Business</td>\n",
       "      <td>2035</td>\n",
       "      <td>4.0</td>\n",
       "      <td>3</td>\n",
       "      <td>...</td>\n",
       "      <td>5</td>\n",
       "      <td>5</td>\n",
       "      <td>5.0</td>\n",
       "      <td>5</td>\n",
       "      <td>4</td>\n",
       "      <td>5</td>\n",
       "      <td>4.0</td>\n",
       "      <td>4</td>\n",
       "      <td>0.0</td>\n",
       "      <td>satisfied</td>\n",
       "    </tr>\n",
       "    <tr>\n",
       "      <th>8</th>\n",
       "      <td>8</td>\n",
       "      <td>79485</td>\n",
       "      <td>Female</td>\n",
       "      <td>Loyal Customer</td>\n",
       "      <td>41.0</td>\n",
       "      <td>Business travel</td>\n",
       "      <td>Business</td>\n",
       "      <td>853</td>\n",
       "      <td>1.0</td>\n",
       "      <td>2</td>\n",
       "      <td>...</td>\n",
       "      <td>1</td>\n",
       "      <td>1</td>\n",
       "      <td>2.0</td>\n",
       "      <td>1</td>\n",
       "      <td>4</td>\n",
       "      <td>1</td>\n",
       "      <td>2.0</td>\n",
       "      <td>0</td>\n",
       "      <td>0.0</td>\n",
       "      <td>neutral or dissatisfied</td>\n",
       "    </tr>\n",
       "    <tr>\n",
       "      <th>9</th>\n",
       "      <td>9</td>\n",
       "      <td>65725</td>\n",
       "      <td>Male</td>\n",
       "      <td>disloyal Customer</td>\n",
       "      <td>20.0</td>\n",
       "      <td>Business travel</td>\n",
       "      <td>Eco</td>\n",
       "      <td>1061</td>\n",
       "      <td>3.0</td>\n",
       "      <td>3</td>\n",
       "      <td>...</td>\n",
       "      <td>2</td>\n",
       "      <td>2</td>\n",
       "      <td>3.0</td>\n",
       "      <td>4</td>\n",
       "      <td>4</td>\n",
       "      <td>3</td>\n",
       "      <td>2.0</td>\n",
       "      <td>0</td>\n",
       "      <td>0.0</td>\n",
       "      <td>neutral or dissatisfied</td>\n",
       "    </tr>\n",
       "    <tr>\n",
       "      <th>10</th>\n",
       "      <td>10</td>\n",
       "      <td>34991</td>\n",
       "      <td>Female</td>\n",
       "      <td>disloyal Customer</td>\n",
       "      <td>24.0</td>\n",
       "      <td>Business travel</td>\n",
       "      <td>Eco</td>\n",
       "      <td>1182</td>\n",
       "      <td>4.0</td>\n",
       "      <td>5</td>\n",
       "      <td>...</td>\n",
       "      <td>2</td>\n",
       "      <td>3</td>\n",
       "      <td>3.0</td>\n",
       "      <td>5</td>\n",
       "      <td>3</td>\n",
       "      <td>5</td>\n",
       "      <td>2.0</td>\n",
       "      <td>0</td>\n",
       "      <td>0.0</td>\n",
       "      <td>neutral or dissatisfied</td>\n",
       "    </tr>\n",
       "    <tr>\n",
       "      <th>11</th>\n",
       "      <td>11</td>\n",
       "      <td>51412</td>\n",
       "      <td>Female</td>\n",
       "      <td>Loyal Customer</td>\n",
       "      <td>12.0</td>\n",
       "      <td>Personal Travel</td>\n",
       "      <td>Eco Plus</td>\n",
       "      <td>308</td>\n",
       "      <td>2.0</td>\n",
       "      <td>4</td>\n",
       "      <td>...</td>\n",
       "      <td>1</td>\n",
       "      <td>1</td>\n",
       "      <td>NaN</td>\n",
       "      <td>5</td>\n",
       "      <td>5</td>\n",
       "      <td>5</td>\n",
       "      <td>1.0</td>\n",
       "      <td>0</td>\n",
       "      <td>0.0</td>\n",
       "      <td>neutral or dissatisfied</td>\n",
       "    </tr>\n",
       "    <tr>\n",
       "      <th>12</th>\n",
       "      <td>12</td>\n",
       "      <td>98628</td>\n",
       "      <td>Male</td>\n",
       "      <td>Loyal Customer</td>\n",
       "      <td>53.0</td>\n",
       "      <td>Business travel</td>\n",
       "      <td>Eco</td>\n",
       "      <td>834</td>\n",
       "      <td>1.0</td>\n",
       "      <td>4</td>\n",
       "      <td>...</td>\n",
       "      <td>1</td>\n",
       "      <td>1</td>\n",
       "      <td>1.0</td>\n",
       "      <td>3</td>\n",
       "      <td>4</td>\n",
       "      <td>4</td>\n",
       "      <td>1.0</td>\n",
       "      <td>28</td>\n",
       "      <td>8.0</td>\n",
       "      <td>neutral or dissatisfied</td>\n",
       "    </tr>\n",
       "    <tr>\n",
       "      <th>13</th>\n",
       "      <td>13</td>\n",
       "      <td>83502</td>\n",
       "      <td>Male</td>\n",
       "      <td>Loyal Customer</td>\n",
       "      <td>33.0</td>\n",
       "      <td>Personal Travel</td>\n",
       "      <td>Eco</td>\n",
       "      <td>946</td>\n",
       "      <td>4.0</td>\n",
       "      <td>2</td>\n",
       "      <td>...</td>\n",
       "      <td>4</td>\n",
       "      <td>4</td>\n",
       "      <td>5.0</td>\n",
       "      <td>2</td>\n",
       "      <td>2</td>\n",
       "      <td>2</td>\n",
       "      <td>4.0</td>\n",
       "      <td>0</td>\n",
       "      <td>0.0</td>\n",
       "      <td>satisfied</td>\n",
       "    </tr>\n",
       "    <tr>\n",
       "      <th>14</th>\n",
       "      <td>14</td>\n",
       "      <td>95789</td>\n",
       "      <td>Female</td>\n",
       "      <td>Loyal Customer</td>\n",
       "      <td>26.0</td>\n",
       "      <td>Personal Travel</td>\n",
       "      <td>Eco</td>\n",
       "      <td>453</td>\n",
       "      <td>3.0</td>\n",
       "      <td>2</td>\n",
       "      <td>...</td>\n",
       "      <td>2</td>\n",
       "      <td>4</td>\n",
       "      <td>3.0</td>\n",
       "      <td>2</td>\n",
       "      <td>2</td>\n",
       "      <td>1</td>\n",
       "      <td>2.0</td>\n",
       "      <td>43</td>\n",
       "      <td>35.0</td>\n",
       "      <td>neutral or dissatisfied</td>\n",
       "    </tr>\n",
       "  </tbody>\n",
       "</table>\n",
       "<p>15 rows × 25 columns</p>\n",
       "</div>"
      ],
      "text/plain": [
       "    Unnamed: 0      id  Gender      Customer Type   Age   Type of Travel  \\\n",
       "0            0   70172    Male     Loyal Customer  13.0  Personal Travel   \n",
       "1            1    5047    Male  disloyal Customer  25.0  Business travel   \n",
       "2            2  110028  Female     Loyal Customer  26.0  Business travel   \n",
       "3            3   24026  Female     Loyal Customer  25.0  Business travel   \n",
       "4            4  119299    Male     Loyal Customer  61.0  Business travel   \n",
       "5            5  111157  Female     Loyal Customer  26.0  Personal Travel   \n",
       "6            6   82113    Male     Loyal Customer  47.0  Personal Travel   \n",
       "7            7   96462  Female     Loyal Customer  52.0  Business travel   \n",
       "8            8   79485  Female     Loyal Customer  41.0  Business travel   \n",
       "9            9   65725    Male  disloyal Customer  20.0  Business travel   \n",
       "10          10   34991  Female  disloyal Customer  24.0  Business travel   \n",
       "11          11   51412  Female     Loyal Customer  12.0  Personal Travel   \n",
       "12          12   98628    Male     Loyal Customer  53.0  Business travel   \n",
       "13          13   83502    Male     Loyal Customer  33.0  Personal Travel   \n",
       "14          14   95789  Female     Loyal Customer  26.0  Personal Travel   \n",
       "\n",
       "       Class  Flight Distance  Inflight wifi service  \\\n",
       "0   Eco Plus              460                    3.0   \n",
       "1   Business              235                    3.0   \n",
       "2   Business             1142                    2.0   \n",
       "3   Business              562                    2.0   \n",
       "4   Business              214                    3.0   \n",
       "5        Eco             1180                    3.0   \n",
       "6        Eco             1276                    2.0   \n",
       "7   Business             2035                    4.0   \n",
       "8   Business              853                    1.0   \n",
       "9        Eco             1061                    3.0   \n",
       "10       Eco             1182                    4.0   \n",
       "11  Eco Plus              308                    2.0   \n",
       "12       Eco              834                    1.0   \n",
       "13       Eco              946                    4.0   \n",
       "14       Eco              453                    3.0   \n",
       "\n",
       "    Departure/Arrival time convenient  ...  Inflight entertainment  \\\n",
       "0                                   4  ...                       5   \n",
       "1                                   2  ...                       1   \n",
       "2                                   2  ...                       5   \n",
       "3                                   5  ...                       2   \n",
       "4                                   3  ...                       3   \n",
       "5                                   4  ...                       1   \n",
       "6                                   4  ...                       2   \n",
       "7                                   3  ...                       5   \n",
       "8                                   2  ...                       1   \n",
       "9                                   3  ...                       2   \n",
       "10                                  5  ...                       2   \n",
       "11                                  4  ...                       1   \n",
       "12                                  4  ...                       1   \n",
       "13                                  2  ...                       4   \n",
       "14                                  2  ...                       2   \n",
       "\n",
       "    On-board service  Leg room service  Baggage handling  Checkin service  \\\n",
       "0                  4               3.0                 4                4   \n",
       "1                  1               5.0                 3                1   \n",
       "2                  4               3.0                 4                4   \n",
       "3                  2               5.0                 3                1   \n",
       "4                  3               4.0                 4                3   \n",
       "5                  3               4.0                 4                4   \n",
       "6                  3               3.0                 4                3   \n",
       "7                  5               5.0                 5                4   \n",
       "8                  1               2.0                 1                4   \n",
       "9                  2               3.0                 4                4   \n",
       "10                 3               3.0                 5                3   \n",
       "11                 1               NaN                 5                5   \n",
       "12                 1               1.0                 3                4   \n",
       "13                 4               5.0                 2                2   \n",
       "14                 4               3.0                 2                2   \n",
       "\n",
       "    Inflight service  Cleanliness  Departure Delay in Minutes  \\\n",
       "0                  5          5.0                          25   \n",
       "1                  4          1.0                           1   \n",
       "2                  4          5.0                           0   \n",
       "3                  4          2.0                          11   \n",
       "4                  3          3.0                           0   \n",
       "5                  4          1.0                           0   \n",
       "6                  5          2.0                           9   \n",
       "7                  5          4.0                           4   \n",
       "8                  1          2.0                           0   \n",
       "9                  3          2.0                           0   \n",
       "10                 5          2.0                           0   \n",
       "11                 5          1.0                           0   \n",
       "12                 4          1.0                          28   \n",
       "13                 2          4.0                           0   \n",
       "14                 1          2.0                          43   \n",
       "\n",
       "    Arrival Delay in Minutes             satisfaction  \n",
       "0                       18.0  neutral or dissatisfied  \n",
       "1                        6.0  neutral or dissatisfied  \n",
       "2                        0.0                satisfied  \n",
       "3                        9.0  neutral or dissatisfied  \n",
       "4                        0.0                satisfied  \n",
       "5                        0.0  neutral or dissatisfied  \n",
       "6                       23.0  neutral or dissatisfied  \n",
       "7                        0.0                satisfied  \n",
       "8                        0.0  neutral or dissatisfied  \n",
       "9                        0.0  neutral or dissatisfied  \n",
       "10                       0.0  neutral or dissatisfied  \n",
       "11                       0.0  neutral or dissatisfied  \n",
       "12                       8.0  neutral or dissatisfied  \n",
       "13                       0.0                satisfied  \n",
       "14                      35.0  neutral or dissatisfied  \n",
       "\n",
       "[15 rows x 25 columns]"
      ]
     },
     "execution_count": 4,
     "metadata": {},
     "output_type": "execute_result"
    }
   ],
   "source": [
    "df.head(15)"
   ]
  },
  {
   "cell_type": "markdown",
   "id": "4eecd94f",
   "metadata": {},
   "source": [
    "### Basic Understanding of data "
   ]
  },
  {
   "cell_type": "code",
   "execution_count": 5,
   "id": "c6871f95",
   "metadata": {},
   "outputs": [
    {
     "data": {
      "text/plain": [
       "Unnamed: 0                             int64\n",
       "id                                     int64\n",
       "Gender                                object\n",
       "Customer Type                         object\n",
       "Age                                  float64\n",
       "Type of Travel                        object\n",
       "Class                                 object\n",
       "Flight Distance                        int64\n",
       "Inflight wifi service                float64\n",
       "Departure/Arrival time convenient      int64\n",
       "Ease of Online booking                 int64\n",
       "Gate location                          int64\n",
       "Food and drink                         int64\n",
       "Online boarding                        int64\n",
       "Seat comfort                           int64\n",
       "Inflight entertainment                 int64\n",
       "On-board service                       int64\n",
       "Leg room service                     float64\n",
       "Baggage handling                       int64\n",
       "Checkin service                        int64\n",
       "Inflight service                       int64\n",
       "Cleanliness                          float64\n",
       "Departure Delay in Minutes             int64\n",
       "Arrival Delay in Minutes             float64\n",
       "satisfaction                          object\n",
       "dtype: object"
      ]
     },
     "execution_count": 5,
     "metadata": {},
     "output_type": "execute_result"
    }
   ],
   "source": [
    "df.dtypes #check datatypes of every column"
   ]
  },
  {
   "cell_type": "code",
   "execution_count": 6,
   "id": "26741eb4",
   "metadata": {
    "scrolled": false
   },
   "outputs": [
    {
     "data": {
      "text/html": [
       "<div>\n",
       "<style scoped>\n",
       "    .dataframe tbody tr th:only-of-type {\n",
       "        vertical-align: middle;\n",
       "    }\n",
       "\n",
       "    .dataframe tbody tr th {\n",
       "        vertical-align: top;\n",
       "    }\n",
       "\n",
       "    .dataframe thead th {\n",
       "        text-align: right;\n",
       "    }\n",
       "</style>\n",
       "<table border=\"1\" class=\"dataframe\">\n",
       "  <thead>\n",
       "    <tr style=\"text-align: right;\">\n",
       "      <th></th>\n",
       "      <th>Unnamed: 0</th>\n",
       "      <th>id</th>\n",
       "      <th>Age</th>\n",
       "      <th>Flight Distance</th>\n",
       "      <th>Inflight wifi service</th>\n",
       "      <th>Departure/Arrival time convenient</th>\n",
       "      <th>Ease of Online booking</th>\n",
       "      <th>Gate location</th>\n",
       "      <th>Food and drink</th>\n",
       "      <th>Online boarding</th>\n",
       "      <th>Seat comfort</th>\n",
       "      <th>Inflight entertainment</th>\n",
       "      <th>On-board service</th>\n",
       "      <th>Leg room service</th>\n",
       "      <th>Baggage handling</th>\n",
       "      <th>Checkin service</th>\n",
       "      <th>Inflight service</th>\n",
       "      <th>Cleanliness</th>\n",
       "      <th>Departure Delay in Minutes</th>\n",
       "      <th>Arrival Delay in Minutes</th>\n",
       "    </tr>\n",
       "  </thead>\n",
       "  <tbody>\n",
       "    <tr>\n",
       "      <th>count</th>\n",
       "      <td>103904.000000</td>\n",
       "      <td>103904.000000</td>\n",
       "      <td>103885.000000</td>\n",
       "      <td>103904.000000</td>\n",
       "      <td>103895.000000</td>\n",
       "      <td>103904.000000</td>\n",
       "      <td>103904.000000</td>\n",
       "      <td>103904.000000</td>\n",
       "      <td>103904.000000</td>\n",
       "      <td>103904.000000</td>\n",
       "      <td>103904.000000</td>\n",
       "      <td>103904.000000</td>\n",
       "      <td>103904.000000</td>\n",
       "      <td>103899.000000</td>\n",
       "      <td>103904.000000</td>\n",
       "      <td>103904.000000</td>\n",
       "      <td>103904.000000</td>\n",
       "      <td>103902.000000</td>\n",
       "      <td>103904.000000</td>\n",
       "      <td>103594.000000</td>\n",
       "    </tr>\n",
       "    <tr>\n",
       "      <th>mean</th>\n",
       "      <td>51951.500000</td>\n",
       "      <td>64924.210502</td>\n",
       "      <td>39.379256</td>\n",
       "      <td>1189.448375</td>\n",
       "      <td>2.729669</td>\n",
       "      <td>3.060296</td>\n",
       "      <td>2.756901</td>\n",
       "      <td>2.976883</td>\n",
       "      <td>3.202129</td>\n",
       "      <td>3.250375</td>\n",
       "      <td>3.439396</td>\n",
       "      <td>3.358158</td>\n",
       "      <td>3.382363</td>\n",
       "      <td>3.351014</td>\n",
       "      <td>3.631833</td>\n",
       "      <td>3.304290</td>\n",
       "      <td>3.640428</td>\n",
       "      <td>3.286337</td>\n",
       "      <td>14.815618</td>\n",
       "      <td>15.178678</td>\n",
       "    </tr>\n",
       "    <tr>\n",
       "      <th>std</th>\n",
       "      <td>29994.645522</td>\n",
       "      <td>37463.812252</td>\n",
       "      <td>15.115555</td>\n",
       "      <td>997.147281</td>\n",
       "      <td>1.327825</td>\n",
       "      <td>1.525075</td>\n",
       "      <td>1.398929</td>\n",
       "      <td>1.277621</td>\n",
       "      <td>1.329533</td>\n",
       "      <td>1.349509</td>\n",
       "      <td>1.319088</td>\n",
       "      <td>1.332991</td>\n",
       "      <td>1.288354</td>\n",
       "      <td>1.315598</td>\n",
       "      <td>1.180903</td>\n",
       "      <td>1.265396</td>\n",
       "      <td>1.175663</td>\n",
       "      <td>1.312274</td>\n",
       "      <td>38.230901</td>\n",
       "      <td>38.698682</td>\n",
       "    </tr>\n",
       "    <tr>\n",
       "      <th>min</th>\n",
       "      <td>0.000000</td>\n",
       "      <td>1.000000</td>\n",
       "      <td>7.000000</td>\n",
       "      <td>31.000000</td>\n",
       "      <td>0.000000</td>\n",
       "      <td>0.000000</td>\n",
       "      <td>0.000000</td>\n",
       "      <td>0.000000</td>\n",
       "      <td>0.000000</td>\n",
       "      <td>0.000000</td>\n",
       "      <td>0.000000</td>\n",
       "      <td>0.000000</td>\n",
       "      <td>0.000000</td>\n",
       "      <td>0.000000</td>\n",
       "      <td>1.000000</td>\n",
       "      <td>0.000000</td>\n",
       "      <td>0.000000</td>\n",
       "      <td>0.000000</td>\n",
       "      <td>0.000000</td>\n",
       "      <td>0.000000</td>\n",
       "    </tr>\n",
       "    <tr>\n",
       "      <th>25%</th>\n",
       "      <td>25975.750000</td>\n",
       "      <td>32533.750000</td>\n",
       "      <td>27.000000</td>\n",
       "      <td>414.000000</td>\n",
       "      <td>2.000000</td>\n",
       "      <td>2.000000</td>\n",
       "      <td>2.000000</td>\n",
       "      <td>2.000000</td>\n",
       "      <td>2.000000</td>\n",
       "      <td>2.000000</td>\n",
       "      <td>2.000000</td>\n",
       "      <td>2.000000</td>\n",
       "      <td>2.000000</td>\n",
       "      <td>2.000000</td>\n",
       "      <td>3.000000</td>\n",
       "      <td>3.000000</td>\n",
       "      <td>3.000000</td>\n",
       "      <td>2.000000</td>\n",
       "      <td>0.000000</td>\n",
       "      <td>0.000000</td>\n",
       "    </tr>\n",
       "    <tr>\n",
       "      <th>50%</th>\n",
       "      <td>51951.500000</td>\n",
       "      <td>64856.500000</td>\n",
       "      <td>40.000000</td>\n",
       "      <td>843.000000</td>\n",
       "      <td>3.000000</td>\n",
       "      <td>3.000000</td>\n",
       "      <td>3.000000</td>\n",
       "      <td>3.000000</td>\n",
       "      <td>3.000000</td>\n",
       "      <td>3.000000</td>\n",
       "      <td>4.000000</td>\n",
       "      <td>4.000000</td>\n",
       "      <td>4.000000</td>\n",
       "      <td>4.000000</td>\n",
       "      <td>4.000000</td>\n",
       "      <td>3.000000</td>\n",
       "      <td>4.000000</td>\n",
       "      <td>3.000000</td>\n",
       "      <td>0.000000</td>\n",
       "      <td>0.000000</td>\n",
       "    </tr>\n",
       "    <tr>\n",
       "      <th>75%</th>\n",
       "      <td>77927.250000</td>\n",
       "      <td>97368.250000</td>\n",
       "      <td>51.000000</td>\n",
       "      <td>1743.000000</td>\n",
       "      <td>4.000000</td>\n",
       "      <td>4.000000</td>\n",
       "      <td>4.000000</td>\n",
       "      <td>4.000000</td>\n",
       "      <td>4.000000</td>\n",
       "      <td>4.000000</td>\n",
       "      <td>5.000000</td>\n",
       "      <td>4.000000</td>\n",
       "      <td>4.000000</td>\n",
       "      <td>4.000000</td>\n",
       "      <td>5.000000</td>\n",
       "      <td>4.000000</td>\n",
       "      <td>5.000000</td>\n",
       "      <td>4.000000</td>\n",
       "      <td>12.000000</td>\n",
       "      <td>13.000000</td>\n",
       "    </tr>\n",
       "    <tr>\n",
       "      <th>max</th>\n",
       "      <td>103903.000000</td>\n",
       "      <td>129880.000000</td>\n",
       "      <td>85.000000</td>\n",
       "      <td>4983.000000</td>\n",
       "      <td>5.000000</td>\n",
       "      <td>5.000000</td>\n",
       "      <td>5.000000</td>\n",
       "      <td>5.000000</td>\n",
       "      <td>5.000000</td>\n",
       "      <td>5.000000</td>\n",
       "      <td>5.000000</td>\n",
       "      <td>5.000000</td>\n",
       "      <td>5.000000</td>\n",
       "      <td>5.000000</td>\n",
       "      <td>5.000000</td>\n",
       "      <td>5.000000</td>\n",
       "      <td>5.000000</td>\n",
       "      <td>5.000000</td>\n",
       "      <td>1592.000000</td>\n",
       "      <td>1584.000000</td>\n",
       "    </tr>\n",
       "  </tbody>\n",
       "</table>\n",
       "</div>"
      ],
      "text/plain": [
       "          Unnamed: 0             id            Age  Flight Distance  \\\n",
       "count  103904.000000  103904.000000  103885.000000    103904.000000   \n",
       "mean    51951.500000   64924.210502      39.379256      1189.448375   \n",
       "std     29994.645522   37463.812252      15.115555       997.147281   \n",
       "min         0.000000       1.000000       7.000000        31.000000   \n",
       "25%     25975.750000   32533.750000      27.000000       414.000000   \n",
       "50%     51951.500000   64856.500000      40.000000       843.000000   \n",
       "75%     77927.250000   97368.250000      51.000000      1743.000000   \n",
       "max    103903.000000  129880.000000      85.000000      4983.000000   \n",
       "\n",
       "       Inflight wifi service  Departure/Arrival time convenient  \\\n",
       "count          103895.000000                      103904.000000   \n",
       "mean                2.729669                           3.060296   \n",
       "std                 1.327825                           1.525075   \n",
       "min                 0.000000                           0.000000   \n",
       "25%                 2.000000                           2.000000   \n",
       "50%                 3.000000                           3.000000   \n",
       "75%                 4.000000                           4.000000   \n",
       "max                 5.000000                           5.000000   \n",
       "\n",
       "       Ease of Online booking  Gate location  Food and drink  Online boarding  \\\n",
       "count           103904.000000  103904.000000   103904.000000    103904.000000   \n",
       "mean                 2.756901       2.976883        3.202129         3.250375   \n",
       "std                  1.398929       1.277621        1.329533         1.349509   \n",
       "min                  0.000000       0.000000        0.000000         0.000000   \n",
       "25%                  2.000000       2.000000        2.000000         2.000000   \n",
       "50%                  3.000000       3.000000        3.000000         3.000000   \n",
       "75%                  4.000000       4.000000        4.000000         4.000000   \n",
       "max                  5.000000       5.000000        5.000000         5.000000   \n",
       "\n",
       "        Seat comfort  Inflight entertainment  On-board service  \\\n",
       "count  103904.000000           103904.000000     103904.000000   \n",
       "mean        3.439396                3.358158          3.382363   \n",
       "std         1.319088                1.332991          1.288354   \n",
       "min         0.000000                0.000000          0.000000   \n",
       "25%         2.000000                2.000000          2.000000   \n",
       "50%         4.000000                4.000000          4.000000   \n",
       "75%         5.000000                4.000000          4.000000   \n",
       "max         5.000000                5.000000          5.000000   \n",
       "\n",
       "       Leg room service  Baggage handling  Checkin service  Inflight service  \\\n",
       "count     103899.000000     103904.000000    103904.000000     103904.000000   \n",
       "mean           3.351014          3.631833         3.304290          3.640428   \n",
       "std            1.315598          1.180903         1.265396          1.175663   \n",
       "min            0.000000          1.000000         0.000000          0.000000   \n",
       "25%            2.000000          3.000000         3.000000          3.000000   \n",
       "50%            4.000000          4.000000         3.000000          4.000000   \n",
       "75%            4.000000          5.000000         4.000000          5.000000   \n",
       "max            5.000000          5.000000         5.000000          5.000000   \n",
       "\n",
       "         Cleanliness  Departure Delay in Minutes  Arrival Delay in Minutes  \n",
       "count  103902.000000               103904.000000             103594.000000  \n",
       "mean        3.286337                   14.815618                 15.178678  \n",
       "std         1.312274                   38.230901                 38.698682  \n",
       "min         0.000000                    0.000000                  0.000000  \n",
       "25%         2.000000                    0.000000                  0.000000  \n",
       "50%         3.000000                    0.000000                  0.000000  \n",
       "75%         4.000000                   12.000000                 13.000000  \n",
       "max         5.000000                 1592.000000               1584.000000  "
      ]
     },
     "execution_count": 6,
     "metadata": {},
     "output_type": "execute_result"
    }
   ],
   "source": [
    "df.describe() #statistics"
   ]
  },
  {
   "cell_type": "markdown",
   "id": "529b33f6",
   "metadata": {},
   "source": [
    "- Average Age of Passanger : 40\n",
    "- Average Flight Distance : 1189\n",
    "- Average departure delay: 14 Minutes\n",
    "- Average arrival delay: 15 Minutes"
   ]
  },
  {
   "cell_type": "code",
   "execution_count": 7,
   "id": "c2bdd491",
   "metadata": {},
   "outputs": [
    {
     "name": "stdout",
     "output_type": "stream",
     "text": [
      "Number of rows in data : 103904\n",
      "Number of columns in data : 25\n"
     ]
    }
   ],
   "source": [
    "print(f\"Number of rows in data : {df.shape[0]}\")\n",
    "print(f\"Number of columns in data : {df.shape[1]}\")"
   ]
  },
  {
   "cell_type": "markdown",
   "id": "d4e480b3",
   "metadata": {},
   "source": [
    "# Exploratory Data Analysis"
   ]
  },
  {
   "cell_type": "markdown",
   "id": "9a79b2e0",
   "metadata": {},
   "source": [
    "### Data Cleaning :\n",
    "- Removing irrelevant features\n",
    "- Handling missing values"
   ]
  },
  {
   "cell_type": "code",
   "execution_count": 8,
   "id": "8f34ca47",
   "metadata": {},
   "outputs": [
    {
     "data": {
      "text/plain": [
       "Index(['Unnamed: 0', 'id', 'Gender', 'Customer Type', 'Age', 'Type of Travel',\n",
       "       'Class', 'Flight Distance', 'Inflight wifi service',\n",
       "       'Departure/Arrival time convenient', 'Ease of Online booking',\n",
       "       'Gate location', 'Food and drink', 'Online boarding', 'Seat comfort',\n",
       "       'Inflight entertainment', 'On-board service', 'Leg room service',\n",
       "       'Baggage handling', 'Checkin service', 'Inflight service',\n",
       "       'Cleanliness', 'Departure Delay in Minutes', 'Arrival Delay in Minutes',\n",
       "       'satisfaction'],\n",
       "      dtype='object')"
      ]
     },
     "execution_count": 8,
     "metadata": {},
     "output_type": "execute_result"
    }
   ],
   "source": [
    "# Removing irrelavant columns\n",
    "df.columns"
   ]
  },
  {
   "cell_type": "code",
   "execution_count": 9,
   "id": "f12424e9",
   "metadata": {},
   "outputs": [],
   "source": [
    "# here Unnamed: 0, id are irrevelant columns and cannot be used for creating a predictive model\n",
    "df.drop(['id','Unnamed: 0'], axis= 1, inplace= True)"
   ]
  },
  {
   "cell_type": "code",
   "execution_count": 10,
   "id": "4447192e",
   "metadata": {},
   "outputs": [
    {
     "data": {
      "text/plain": [
       "Gender                                 0\n",
       "Customer Type                          0\n",
       "Age                                   19\n",
       "Type of Travel                         0\n",
       "Class                                  0\n",
       "Flight Distance                        0\n",
       "Inflight wifi service                  9\n",
       "Departure/Arrival time convenient      0\n",
       "Ease of Online booking                 0\n",
       "Gate location                          0\n",
       "Food and drink                         0\n",
       "Online boarding                        0\n",
       "Seat comfort                           0\n",
       "Inflight entertainment                 0\n",
       "On-board service                       0\n",
       "Leg room service                       5\n",
       "Baggage handling                       0\n",
       "Checkin service                        0\n",
       "Inflight service                       0\n",
       "Cleanliness                            2\n",
       "Departure Delay in Minutes             0\n",
       "Arrival Delay in Minutes             310\n",
       "satisfaction                           0\n",
       "dtype: int64"
      ]
     },
     "execution_count": 10,
     "metadata": {},
     "output_type": "execute_result"
    }
   ],
   "source": [
    "# check for null values\n",
    "df.isnull().sum()"
   ]
  },
  {
   "cell_type": "markdown",
   "id": "008eb2af",
   "metadata": {},
   "source": [
    "- As you can see there are null values in Age, Inflight wifi service, Leg room service, Cleanliness and Arrival Delay in Minutes we need to handle those"
   ]
  },
  {
   "cell_type": "code",
   "execution_count": 11,
   "id": "d950c906",
   "metadata": {},
   "outputs": [],
   "source": [
    "# we can fill missing values of age using mean\n",
    "Age_mean=round(df['Age'].mean())\n",
    "df['Age'].fillna(Age_mean,inplace=True)"
   ]
  },
  {
   "cell_type": "code",
   "execution_count": 12,
   "id": "b4c3bb65",
   "metadata": {},
   "outputs": [],
   "source": [
    "# also for Inflight wifi service, Leg room service\n",
    "iws=round(df['Inflight wifi service'].mean())\n",
    "df['Inflight wifi service'].fillna(iws,inplace=True)"
   ]
  },
  {
   "cell_type": "code",
   "execution_count": 13,
   "id": "3a553dc4",
   "metadata": {},
   "outputs": [],
   "source": [
    "lrs=round(df['Leg room service'].mean())\n",
    "df['Leg room service'].fillna(lrs,inplace=True)"
   ]
  },
  {
   "cell_type": "code",
   "execution_count": 14,
   "id": "2494ab12",
   "metadata": {},
   "outputs": [],
   "source": [
    "Cleanliness_mean=round(df['Cleanliness'].mean())\n",
    "df['Cleanliness'].fillna(Cleanliness_mean,inplace=True)"
   ]
  },
  {
   "cell_type": "code",
   "execution_count": 15,
   "id": "f08be924",
   "metadata": {},
   "outputs": [
    {
     "data": {
      "image/png": "[encoded data removed]",
      "text/plain": [
       "<Figure size 720x432 with 1 Axes>"
      ]
     },
     "metadata": {
      "needs_background": "light"
     },
     "output_type": "display_data"
    }
   ],
   "source": [
    "# in Arrival Delay in Minutes there are 310 \n",
    "import seaborn as sns\n",
    "import matplotlib.pyplot as plt\n",
    "\n",
    "# Plotting histogram\n",
    "plt.figure(figsize=(10, 6))\n",
    "sns.histplot(df['Arrival Delay in Minutes'], kde=True, color='blue', bins=30)\n",
    "plt.title('Histogram of Arrival Delay in Minutes')\n",
    "plt.xlabel('Arrival Delay in Minutes')\n",
    "plt.ylabel('Frequency')\n",
    "plt.show()"
   ]
  },
  {
   "cell_type": "code",
   "execution_count": 16,
   "id": "6cb9fc21",
   "metadata": {},
   "outputs": [],
   "source": [
    "# Filling missing values with median as distribution of arrival delay was heavily skewed\n",
    "median_val = df['Arrival Delay in Minutes'].median()\n",
    "df['Arrival Delay in Minutes'].fillna(median_val,inplace=True)"
   ]
  },
  {
   "cell_type": "code",
   "execution_count": 17,
   "id": "6c7b8b71",
   "metadata": {},
   "outputs": [
    {
     "data": {
      "text/plain": [
       "Gender                                  2\n",
       "Customer Type                           2\n",
       "Age                                    75\n",
       "Type of Travel                          2\n",
       "Class                                   3\n",
       "Flight Distance                      3802\n",
       "Inflight wifi service                   6\n",
       "Departure/Arrival time convenient       6\n",
       "Ease of Online booking                  6\n",
       "Gate location                           6\n",
       "Food and drink                          6\n",
       "Online boarding                         6\n",
       "Seat comfort                            6\n",
       "Inflight entertainment                  6\n",
       "On-board service                        6\n",
       "Leg room service                        6\n",
       "Baggage handling                        5\n",
       "Checkin service                         6\n",
       "Inflight service                        6\n",
       "Cleanliness                             6\n",
       "Departure Delay in Minutes            446\n",
       "Arrival Delay in Minutes              455\n",
       "satisfaction                            2\n",
       "dtype: int64"
      ]
     },
     "execution_count": 17,
     "metadata": {},
     "output_type": "execute_result"
    }
   ],
   "source": [
    "df.nunique()"
   ]
  },
  {
   "cell_type": "markdown",
   "id": "fa889270",
   "metadata": {},
   "source": [
    "make a list of categorical and numerical data"
   ]
  },
  {
   "cell_type": "code",
   "execution_count": 18,
   "id": "12877b5e",
   "metadata": {},
   "outputs": [
    {
     "name": "stdout",
     "output_type": "stream",
     "text": [
      "categorical data :  ['Gender', 'Customer Type', 'Type of Travel', 'Class', 'Inflight wifi service', 'Departure/Arrival time convenient', 'Ease of Online booking', 'Gate location', 'Food and drink', 'Online boarding', 'Seat comfort', 'Inflight entertainment', 'On-board service', 'Leg room service', 'Baggage handling', 'Checkin service', 'Inflight service', 'Cleanliness', 'satisfaction']\n",
      "\n",
      "numerical data :  ['Age', 'Flight Distance', 'Departure Delay in Minutes', 'Arrival Delay in Minutes']\n"
     ]
    }
   ],
   "source": [
    "# find categorical data\n",
    "category=['Inflight wifi service', 'Departure/Arrival time convenient', 'Ease of Online booking','Gate location', 'Food and drink', 'Online boarding', 'Seat comfort', 'Inflight entertainment', 'On-board service', 'Leg room service', 'Baggage handling', 'Checkin service', 'Inflight service', 'Cleanliness']\n",
    "# convert to object\n",
    "df[category]=df[category].astype(object)\n",
    "# make list for categorical data\n",
    "categorical=df.select_dtypes(object).columns.to_list()\n",
    "print(\"categorical data : \", categorical)\n",
    "print()\n",
    "# make list for numerical data\n",
    "numerical = df.select_dtypes(np.number).columns.to_list()\n",
    "print(\"numerical data : \", numerical)"
   ]
  },
  {
   "cell_type": "code",
   "execution_count": 19,
   "id": "dbdfc7c5",
   "metadata": {
    "scrolled": false
   },
   "outputs": [
    {
     "name": "stdout",
     "output_type": "stream",
     "text": [
      "Inflight wifi service\n",
      "[3.0 2.0 4.0 1.0 5.0 0.0]\n",
      "----------------------------------------\n",
      "Departure/Arrival time convenient\n",
      "[4 2 5 3 1 0]\n",
      "----------------------------------------\n",
      "Ease of Online booking\n",
      "[3 2 5 4 1 0]\n",
      "----------------------------------------\n",
      "Gate location\n",
      "[1 3 2 5 4 0]\n",
      "----------------------------------------\n",
      "Food and drink\n",
      "[5 1 2 4 3 0]\n",
      "----------------------------------------\n",
      "Online boarding\n",
      "[3 5 2 1 4 0]\n",
      "----------------------------------------\n",
      "Seat comfort\n",
      "[5 1 2 3 4 0]\n",
      "----------------------------------------\n",
      "Inflight entertainment\n",
      "[5 1 2 3 4 0]\n",
      "----------------------------------------\n",
      "On-board service\n",
      "[4 1 2 3 5 0]\n",
      "----------------------------------------\n",
      "Leg room service\n",
      "[3.0 5.0 4.0 2.0 1.0 0.0]\n",
      "----------------------------------------\n",
      "Baggage handling\n",
      "[4 3 5 1 2]\n",
      "----------------------------------------\n",
      "Checkin service\n",
      "[4 1 3 5 2 0]\n",
      "----------------------------------------\n",
      "Inflight service\n",
      "[5 4 3 1 2 0]\n",
      "----------------------------------------\n",
      "Cleanliness\n",
      "[5.0 1.0 2.0 3.0 4.0 0.0]\n",
      "----------------------------------------\n"
     ]
    }
   ],
   "source": [
    "# checking value count of every categorical column \n",
    "for i in category: \n",
    "    print(i)\n",
    "    print(df[i].unique())\n",
    "    print('----'*10)"
   ]
  },
  {
   "cell_type": "markdown",
   "id": "2eabf21c",
   "metadata": {},
   "source": [
    "- Some of the missing values in categorical columns are represented by 0, we can replace them with mode of that particular column "
   ]
  },
  {
   "cell_type": "code",
   "execution_count": 20,
   "id": "37d02f6e",
   "metadata": {},
   "outputs": [],
   "source": [
    "data1=['Inflight wifi service', 'Departure/Arrival time convenient', 'Ease of Online booking', 'Food and drink', 'Online boarding', 'Seat comfort', 'Inflight entertainment', 'On-board service', 'Leg room service', 'Checkin service','Gate location', 'Inflight service', 'Cleanliness']\n",
    "for i in data1: \n",
    "    mode_value=df[i].mode()[0]\n",
    "    df[i]=df[i].replace(0, mode_value)  \n",
    "df[category]=df[category].astype(object)"
   ]
  },
  {
   "cell_type": "code",
   "execution_count": 21,
   "id": "a036b0cb",
   "metadata": {
    "scrolled": true
   },
   "outputs": [],
   "source": [
    "# # checking value count of every categorical column \n",
    "# for i in categorical[3:]: \n",
    "#     print(i)\n",
    "#     print(df[i].value_counts())\n",
    "#     print('----'*10)"
   ]
  },
  {
   "cell_type": "code",
   "execution_count": 22,
   "id": "ea3c0f4c",
   "metadata": {
    "scrolled": false
   },
   "outputs": [
    {
     "name": "stdout",
     "output_type": "stream",
     "text": [
      "Inflight wifi service\n",
      "[3.0 2.0 4.0 1.0 5.0]\n",
      "----------------------------------------\n",
      "Departure/Arrival time convenient\n",
      "[4 2 5 3 1]\n",
      "----------------------------------------\n",
      "Ease of Online booking\n",
      "[3 2 5 4 1]\n",
      "----------------------------------------\n",
      "Gate location\n",
      "[1 3 2 5 4]\n",
      "----------------------------------------\n",
      "Food and drink\n",
      "[5 1 2 4 3]\n",
      "----------------------------------------\n",
      "Online boarding\n",
      "[3 5 2 1 4]\n",
      "----------------------------------------\n",
      "Seat comfort\n",
      "[5 1 2 3 4]\n",
      "----------------------------------------\n",
      "Inflight entertainment\n",
      "[5 1 2 3 4]\n",
      "----------------------------------------\n",
      "On-board service\n",
      "[4 1 2 3 5]\n",
      "----------------------------------------\n",
      "Leg room service\n",
      "[3.0 5.0 4.0 2.0 1.0]\n",
      "----------------------------------------\n",
      "Baggage handling\n",
      "[4 3 5 1 2]\n",
      "----------------------------------------\n",
      "Checkin service\n",
      "[4 1 3 5 2]\n",
      "----------------------------------------\n",
      "Inflight service\n",
      "[5 4 3 1 2]\n",
      "----------------------------------------\n",
      "Cleanliness\n",
      "[5.0 1.0 2.0 3.0 4.0]\n",
      "----------------------------------------\n"
     ]
    }
   ],
   "source": [
    "for i in category: \n",
    "    print(i)\n",
    "    print(df[i].unique())\n",
    "    print('----'*10)"
   ]
  },
  {
   "cell_type": "code",
   "execution_count": 23,
   "id": "ffabb493",
   "metadata": {
    "scrolled": false
   },
   "outputs": [
    {
     "name": "stdout",
     "output_type": "stream",
     "text": [
      "<class 'pandas.core.frame.DataFrame'>\n",
      "RangeIndex: 103904 entries, 0 to 103903\n",
      "Data columns (total 23 columns):\n",
      " #   Column                             Non-Null Count   Dtype  \n",
      "---  ------                             --------------   -----  \n",
      " 0   Gender                             103904 non-null  object \n",
      " 1   Customer Type                      103904 non-null  object \n",
      " 2   Age                                103904 non-null  float64\n",
      " 3   Type of Travel                     103904 non-null  object \n",
      " 4   Class                              103904 non-null  object \n",
      " 5   Flight Distance                    103904 non-null  int64  \n",
      " 6   Inflight wifi service              103904 non-null  object \n",
      " 7   Departure/Arrival time convenient  103904 non-null  object \n",
      " 8   Ease of Online booking             103904 non-null  object \n",
      " 9   Gate location                      103904 non-null  object \n",
      " 10  Food and drink                     103904 non-null  object \n",
      " 11  Online boarding                    103904 non-null  object \n",
      " 12  Seat comfort                       103904 non-null  object \n",
      " 13  Inflight entertainment             103904 non-null  object \n",
      " 14  On-board service                   103904 non-null  object \n",
      " 15  Leg room service                   103904 non-null  object \n",
      " 16  Baggage handling                   103904 non-null  object \n",
      " 17  Checkin service                    103904 non-null  object \n",
      " 18  Inflight service                   103904 non-null  object \n",
      " 19  Cleanliness                        103904 non-null  object \n",
      " 20  Departure Delay in Minutes         103904 non-null  int64  \n",
      " 21  Arrival Delay in Minutes           103904 non-null  float64\n",
      " 22  satisfaction                       103904 non-null  object \n",
      "dtypes: float64(2), int64(2), object(19)\n",
      "memory usage: 18.2+ MB\n"
     ]
    }
   ],
   "source": [
    "df.info()"
   ]
  },
  {
   "cell_type": "markdown",
   "id": "31a3fdd3",
   "metadata": {},
   "source": [
    "### Now we will check the skewness of all indepedent variables"
   ]
  },
  {
   "cell_type": "code",
   "execution_count": 24,
   "id": "947aa7d7",
   "metadata": {},
   "outputs": [
    {
     "data": {
      "image/png": "[encoded data removed]",
      "text/plain": [
       "<Figure size 1440x360 with 2 Axes>"
      ]
     },
     "metadata": {
      "needs_background": "light"
     },
     "output_type": "display_data"
    },
    {
     "data": {
      "image/png": "[encoded data removed]",
      "text/plain": [
       "<Figure size 1440x360 with 2 Axes>"
      ]
     },
     "metadata": {
      "needs_background": "light"
     },
     "output_type": "display_data"
    }
   ],
   "source": [
    "for i in numerical[:2]:\n",
    "    fig, ax = plt.subplots(1, 2, figsize = (20, 5))\n",
    "    sns.histplot(df[i], ax = ax[0], color= 'teal')\n",
    "    sns.boxplot(x=df[i], ax = ax[1], color= 'lightblue')"
   ]
  },
  {
   "cell_type": "markdown",
   "id": "ca8af432",
   "metadata": {},
   "source": [
    "- Majority of the flights have distance lesser than 1000 Km and only some have distance greater than 4000 Km "
   ]
  },
  {
   "cell_type": "code",
   "execution_count": 25,
   "id": "8eeabc06",
   "metadata": {},
   "outputs": [
    {
     "data": {
      "image/png": "[encoded data removed]",
      "text/plain": [
       "<Figure size 1440x360 with 2 Axes>"
      ]
     },
     "metadata": {
      "needs_background": "light"
     },
     "output_type": "display_data"
    },
    {
     "data": {
      "image/png": "[encoded data removed]",
      "text/plain": [
       "<Figure size 1440x360 with 2 Axes>"
      ]
     },
     "metadata": {
      "needs_background": "light"
     },
     "output_type": "display_data"
    }
   ],
   "source": [
    "for i in numerical[2:]:\n",
    "    fig, ax = plt.subplots(1, 2, figsize = (20, 5))\n",
    "    sns.histplot(df[i], ax = ax[0],bins=30, color= 'teal')\n",
    "    sns.boxplot(x=df[i], ax = ax[1], color= 'blue')\n"
   ]
  },
  {
   "cell_type": "markdown",
   "id": "73eb7bb7",
   "metadata": {},
   "source": [
    "- Majority of the flights have no delay, therefore both the Departure delay and arrival delay distributions are heavily skewed."
   ]
  },
  {
   "cell_type": "markdown",
   "id": "adb92adb",
   "metadata": {},
   "source": [
    "### Distribution of Categorical Features"
   ]
  },
  {
   "cell_type": "code",
   "execution_count": 26,
   "id": "223f3dca",
   "metadata": {},
   "outputs": [
    {
     "data": {
      "image/png": "[encoded data removed]",
      "text/plain": [
       "<Figure size 1440x864 with 12 Axes>"
      ]
     },
     "metadata": {
      "needs_background": "light"
     },
     "output_type": "display_data"
    }
   ],
   "source": [
    "categories = ['Gender', 'Customer Type', 'Type of Travel', 'Seat comfort', 'Class', \n",
    "              'Inflight wifi service', 'Departure/Arrival time convenient', 'On-board service',\n",
    "              'Ease of Online booking', 'Food and drink', 'Inflight service', 'Cleanliness']\n",
    "k=0\n",
    "fig, axes = plt.subplots(3, 4, figsize = (20, 12))\n",
    "for i in range(3):\n",
    "    for j in range(4):\n",
    "        sns.countplot(x =categories[k] , data = df, palette= 'viridis', ax = axes[i, j]);\n",
    "        k=k+1\n",
    "plt.tight_layout()\n",
    "plt.show()"
   ]
  },
  {
   "cell_type": "markdown",
   "id": "9c4521a0",
   "metadata": {},
   "source": [
    "- The number of female passengers is slightly higher than male passengers.\n",
    "- The majority of passengers are loyal customers, with a significantly higher count compared to disloyal customers.\n",
    "- Business travel is more prevalent among passengers compared to personal travel.\n",
    "- Business class has slightly more passengers compared to economy class, with a smaller number of passengers in the eco plus class.\n",
    "- Food and Drink facilities have almost equal number of 2, 3, 4 and 5 ratings.\n",
    "- Ratings for inflight wifi service are fairly distributed across values 1 to 5, with a slightly higher count for ratings of 3 and 2\n",
    "- Most passengers rated inflight service as 4 or 5, indicating a satisfactory experience for the majority."
   ]
  },
  {
   "cell_type": "code",
   "execution_count": 27,
   "id": "83447d60",
   "metadata": {},
   "outputs": [
    {
     "data": {
      "text/plain": [
       "<AxesSubplot:>"
      ]
     },
     "execution_count": 27,
     "metadata": {},
     "output_type": "execute_result"
    },
    {
     "data": {
      "image/png": "[encoded data removed]",
      "text/plain": [
       "<Figure size 1008x432 with 2 Axes>"
      ]
     },
     "metadata": {
      "needs_background": "light"
     },
     "output_type": "display_data"
    }
   ],
   "source": [
    "plt.figure(figsize= (14, 6))\n",
    "sns.heatmap(df.corr(), annot = True,cmap=\"crest\", fmt = '.2f', linewidths= 0.8)"
   ]
  },
  {
   "cell_type": "code",
   "execution_count": 28,
   "id": "bfdb9dcf",
   "metadata": {
    "scrolled": false
   },
   "outputs": [
    {
     "data": {
      "image/png": "[encoded data removed]",
      "text/plain": [
       "<Figure size 720x432 with 1 Axes>"
      ]
     },
     "metadata": {
      "needs_background": "light"
     },
     "output_type": "display_data"
    }
   ],
   "source": [
    "plt.figure(figsize = (10, 6))\n",
    "sns.set_style(\"darkgrid\")\n",
    "sns.scatterplot(x = 'Departure Delay in Minutes', y = 'Arrival Delay in Minutes', data = df, color = 'teal')\n",
    "plt.show()"
   ]
  },
  {
   "cell_type": "markdown",
   "id": "923e3d81",
   "metadata": {},
   "source": [
    "- Departure Delay and Arrival delay are heavily correlated with each other, therefore we can drop one of them"
   ]
  },
  {
   "cell_type": "code",
   "execution_count": 29,
   "id": "f2ea2cb4",
   "metadata": {},
   "outputs": [],
   "source": [
    "df.drop('Departure Delay in Minutes', axis=1, inplace= True)"
   ]
  },
  {
   "cell_type": "markdown",
   "id": "bf610013",
   "metadata": {},
   "source": [
    "### comparison of satisfaction levels across different categories "
   ]
  },
  {
   "cell_type": "code",
   "execution_count": 30,
   "id": "da95c2d8",
   "metadata": {
    "scrolled": false
   },
   "outputs": [
    {
     "data": {
      "image/png": "[encoded data removed]",
      "text/plain": [
       "<Figure size 1440x1440 with 12 Axes>"
      ]
     },
     "metadata": {},
     "output_type": "display_data"
    }
   ],
   "source": [
    "categories = ['Gender', 'Customer Type', 'Type of Travel', 'Seat comfort', 'Class', \n",
    "              'Inflight wifi service', 'Departure/Arrival time convenient', 'On-board service',\n",
    "              'Ease of Online booking', 'Food and drink', 'Inflight service', 'Cleanliness']\n",
    "k=0\n",
    "fig, axes = plt.subplots(4, 3, figsize = (20, 20))\n",
    "for i in range(4):\n",
    "    for j in range(3):\n",
    "        sns.countplot(x=categories[k], data=df, hue='satisfaction',  palette='viridis', ax=axes[i, j]);\n",
    "        k=k+1\n",
    "plt.tight_layout()\n",
    "plt.show()"
   ]
  },
  {
   "cell_type": "markdown",
   "id": "060f327e",
   "metadata": {},
   "source": [
    "- Customers traveling in Business class higher satisfaction levels compared to those traveling in Eco class.\n",
    "- another service Majority people give 4, 5 ratings for satisfaction"
   ]
  },
  {
   "cell_type": "markdown",
   "id": "9d729a8c",
   "metadata": {},
   "source": [
    "## Reducing Skewness"
   ]
  },
  {
   "cell_type": "code",
   "execution_count": 31,
   "id": "1cfb85d4",
   "metadata": {},
   "outputs": [
    {
     "name": "stdout",
     "output_type": "stream",
     "text": [
      "Original Skewness: 1.1094656676620138\n"
     ]
    },
    {
     "data": {
      "image/png": "[encoded data removed]",
      "text/plain": [
       "<Figure size 432x288 with 1 Axes>"
      ]
     },
     "metadata": {},
     "output_type": "display_data"
    }
   ],
   "source": [
    "original_skewness = df['Flight Distance'].skew()\n",
    "print(\"Original Skewness:\", original_skewness)\n",
    "sns.histplot(df['Flight Distance'] ,kde=True)\n",
    "plt.show()"
   ]
  },
  {
   "cell_type": "code",
   "execution_count": 32,
   "id": "42aa94d9",
   "metadata": {},
   "outputs": [
    {
     "name": "stdout",
     "output_type": "stream",
     "text": [
      "Transformed Skewness: 0.5350786691507983\n"
     ]
    },
    {
     "data": {
      "image/png": "[encoded data removed]",
      "text/plain": [
       "<Figure size 432x288 with 1 Axes>"
      ]
     },
     "metadata": {},
     "output_type": "display_data"
    }
   ],
   "source": [
    "df['Flight Distance'] = np.sqrt(df['Flight Distance'])\n",
    "transformed_skewness = df['Flight Distance'].skew()\n",
    "print(\"Transformed Skewness:\", transformed_skewness)\n",
    "sns.histplot(df['Flight Distance'], kde=True)\n",
    "plt.show()"
   ]
  },
  {
   "cell_type": "markdown",
   "id": "26f8498c",
   "metadata": {},
   "source": [
    "## Encoding "
   ]
  },
  {
   "cell_type": "code",
   "execution_count": 33,
   "id": "131c7a58",
   "metadata": {},
   "outputs": [
    {
     "data": {
      "text/html": [
       "<div>\n",
       "<style scoped>\n",
       "    .dataframe tbody tr th:only-of-type {\n",
       "        vertical-align: middle;\n",
       "    }\n",
       "\n",
       "    .dataframe tbody tr th {\n",
       "        vertical-align: top;\n",
       "    }\n",
       "\n",
       "    .dataframe thead th {\n",
       "        text-align: right;\n",
       "    }\n",
       "</style>\n",
       "<table border=\"1\" class=\"dataframe\">\n",
       "  <thead>\n",
       "    <tr style=\"text-align: right;\">\n",
       "      <th></th>\n",
       "      <th>Gender</th>\n",
       "      <th>Customer Type</th>\n",
       "      <th>Type of Travel</th>\n",
       "      <th>Class</th>\n",
       "      <th>satisfaction</th>\n",
       "    </tr>\n",
       "  </thead>\n",
       "  <tbody>\n",
       "    <tr>\n",
       "      <th>0</th>\n",
       "      <td>Male</td>\n",
       "      <td>Loyal Customer</td>\n",
       "      <td>Personal Travel</td>\n",
       "      <td>Eco Plus</td>\n",
       "      <td>neutral or dissatisfied</td>\n",
       "    </tr>\n",
       "    <tr>\n",
       "      <th>1</th>\n",
       "      <td>Male</td>\n",
       "      <td>disloyal Customer</td>\n",
       "      <td>Business travel</td>\n",
       "      <td>Business</td>\n",
       "      <td>neutral or dissatisfied</td>\n",
       "    </tr>\n",
       "    <tr>\n",
       "      <th>2</th>\n",
       "      <td>Female</td>\n",
       "      <td>Loyal Customer</td>\n",
       "      <td>Business travel</td>\n",
       "      <td>Business</td>\n",
       "      <td>satisfied</td>\n",
       "    </tr>\n",
       "    <tr>\n",
       "      <th>3</th>\n",
       "      <td>Female</td>\n",
       "      <td>Loyal Customer</td>\n",
       "      <td>Business travel</td>\n",
       "      <td>Business</td>\n",
       "      <td>neutral or dissatisfied</td>\n",
       "    </tr>\n",
       "    <tr>\n",
       "      <th>4</th>\n",
       "      <td>Male</td>\n",
       "      <td>Loyal Customer</td>\n",
       "      <td>Business travel</td>\n",
       "      <td>Business</td>\n",
       "      <td>satisfied</td>\n",
       "    </tr>\n",
       "  </tbody>\n",
       "</table>\n",
       "</div>"
      ],
      "text/plain": [
       "   Gender      Customer Type   Type of Travel     Class  \\\n",
       "0    Male     Loyal Customer  Personal Travel  Eco Plus   \n",
       "1    Male  disloyal Customer  Business travel  Business   \n",
       "2  Female     Loyal Customer  Business travel  Business   \n",
       "3  Female     Loyal Customer  Business travel  Business   \n",
       "4    Male     Loyal Customer  Business travel  Business   \n",
       "\n",
       "              satisfaction  \n",
       "0  neutral or dissatisfied  \n",
       "1  neutral or dissatisfied  \n",
       "2                satisfied  \n",
       "3  neutral or dissatisfied  \n",
       "4                satisfied  "
      ]
     },
     "execution_count": 33,
     "metadata": {},
     "output_type": "execute_result"
    }
   ],
   "source": [
    "df[['Gender','Customer Type','Type of Travel','Class','satisfaction']].head()"
   ]
  },
  {
   "cell_type": "code",
   "execution_count": 34,
   "id": "9d0b8f2b",
   "metadata": {},
   "outputs": [],
   "source": [
    "df = pd.get_dummies(df, columns=['Gender', 'Customer Type', 'Type of Travel'], drop_first=True)\n",
    "\n",
    "label_encoder = LabelEncoder()\n",
    "df['Class'] = label_encoder.fit_transform(df['Class'])\n",
    "df['satisfaction'] = label_encoder.fit_transform(df['satisfaction'])"
   ]
  },
  {
   "cell_type": "code",
   "execution_count": 35,
   "id": "f0c159f8",
   "metadata": {
    "scrolled": false
   },
   "outputs": [
    {
     "data": {
      "text/html": [
       "<div>\n",
       "<style scoped>\n",
       "    .dataframe tbody tr th:only-of-type {\n",
       "        vertical-align: middle;\n",
       "    }\n",
       "\n",
       "    .dataframe tbody tr th {\n",
       "        vertical-align: top;\n",
       "    }\n",
       "\n",
       "    .dataframe thead th {\n",
       "        text-align: right;\n",
       "    }\n",
       "</style>\n",
       "<table border=\"1\" class=\"dataframe\">\n",
       "  <thead>\n",
       "    <tr style=\"text-align: right;\">\n",
       "      <th></th>\n",
       "      <th>Age</th>\n",
       "      <th>Class</th>\n",
       "      <th>Flight Distance</th>\n",
       "      <th>Inflight wifi service</th>\n",
       "      <th>Departure/Arrival time convenient</th>\n",
       "      <th>Ease of Online booking</th>\n",
       "      <th>Gate location</th>\n",
       "      <th>Food and drink</th>\n",
       "      <th>Online boarding</th>\n",
       "      <th>Seat comfort</th>\n",
       "      <th>...</th>\n",
       "      <th>Leg room service</th>\n",
       "      <th>Baggage handling</th>\n",
       "      <th>Checkin service</th>\n",
       "      <th>Inflight service</th>\n",
       "      <th>Cleanliness</th>\n",
       "      <th>Arrival Delay in Minutes</th>\n",
       "      <th>satisfaction</th>\n",
       "      <th>Gender_Male</th>\n",
       "      <th>Customer Type_disloyal Customer</th>\n",
       "      <th>Type of Travel_Personal Travel</th>\n",
       "    </tr>\n",
       "  </thead>\n",
       "  <tbody>\n",
       "    <tr>\n",
       "      <th>0</th>\n",
       "      <td>13.0</td>\n",
       "      <td>2</td>\n",
       "      <td>21.447611</td>\n",
       "      <td>3.0</td>\n",
       "      <td>4</td>\n",
       "      <td>3</td>\n",
       "      <td>1</td>\n",
       "      <td>5</td>\n",
       "      <td>3</td>\n",
       "      <td>5</td>\n",
       "      <td>...</td>\n",
       "      <td>3.0</td>\n",
       "      <td>4</td>\n",
       "      <td>4</td>\n",
       "      <td>5</td>\n",
       "      <td>5.0</td>\n",
       "      <td>18.0</td>\n",
       "      <td>0</td>\n",
       "      <td>1</td>\n",
       "      <td>0</td>\n",
       "      <td>1</td>\n",
       "    </tr>\n",
       "    <tr>\n",
       "      <th>1</th>\n",
       "      <td>25.0</td>\n",
       "      <td>0</td>\n",
       "      <td>15.329710</td>\n",
       "      <td>3.0</td>\n",
       "      <td>2</td>\n",
       "      <td>3</td>\n",
       "      <td>3</td>\n",
       "      <td>1</td>\n",
       "      <td>3</td>\n",
       "      <td>1</td>\n",
       "      <td>...</td>\n",
       "      <td>5.0</td>\n",
       "      <td>3</td>\n",
       "      <td>1</td>\n",
       "      <td>4</td>\n",
       "      <td>1.0</td>\n",
       "      <td>6.0</td>\n",
       "      <td>0</td>\n",
       "      <td>1</td>\n",
       "      <td>1</td>\n",
       "      <td>0</td>\n",
       "    </tr>\n",
       "    <tr>\n",
       "      <th>2</th>\n",
       "      <td>26.0</td>\n",
       "      <td>0</td>\n",
       "      <td>33.793490</td>\n",
       "      <td>2.0</td>\n",
       "      <td>2</td>\n",
       "      <td>2</td>\n",
       "      <td>2</td>\n",
       "      <td>5</td>\n",
       "      <td>5</td>\n",
       "      <td>5</td>\n",
       "      <td>...</td>\n",
       "      <td>3.0</td>\n",
       "      <td>4</td>\n",
       "      <td>4</td>\n",
       "      <td>4</td>\n",
       "      <td>5.0</td>\n",
       "      <td>0.0</td>\n",
       "      <td>1</td>\n",
       "      <td>0</td>\n",
       "      <td>0</td>\n",
       "      <td>0</td>\n",
       "    </tr>\n",
       "    <tr>\n",
       "      <th>3</th>\n",
       "      <td>25.0</td>\n",
       "      <td>0</td>\n",
       "      <td>23.706539</td>\n",
       "      <td>2.0</td>\n",
       "      <td>5</td>\n",
       "      <td>5</td>\n",
       "      <td>5</td>\n",
       "      <td>2</td>\n",
       "      <td>2</td>\n",
       "      <td>2</td>\n",
       "      <td>...</td>\n",
       "      <td>5.0</td>\n",
       "      <td>3</td>\n",
       "      <td>1</td>\n",
       "      <td>4</td>\n",
       "      <td>2.0</td>\n",
       "      <td>9.0</td>\n",
       "      <td>0</td>\n",
       "      <td>0</td>\n",
       "      <td>0</td>\n",
       "      <td>0</td>\n",
       "    </tr>\n",
       "    <tr>\n",
       "      <th>4</th>\n",
       "      <td>61.0</td>\n",
       "      <td>0</td>\n",
       "      <td>14.628739</td>\n",
       "      <td>3.0</td>\n",
       "      <td>3</td>\n",
       "      <td>3</td>\n",
       "      <td>3</td>\n",
       "      <td>4</td>\n",
       "      <td>5</td>\n",
       "      <td>5</td>\n",
       "      <td>...</td>\n",
       "      <td>4.0</td>\n",
       "      <td>4</td>\n",
       "      <td>3</td>\n",
       "      <td>3</td>\n",
       "      <td>3.0</td>\n",
       "      <td>0.0</td>\n",
       "      <td>1</td>\n",
       "      <td>1</td>\n",
       "      <td>0</td>\n",
       "      <td>0</td>\n",
       "    </tr>\n",
       "  </tbody>\n",
       "</table>\n",
       "<p>5 rows × 22 columns</p>\n",
       "</div>"
      ],
      "text/plain": [
       "    Age  Class  Flight Distance Inflight wifi service  \\\n",
       "0  13.0      2        21.447611                   3.0   \n",
       "1  25.0      0        15.329710                   3.0   \n",
       "2  26.0      0        33.793490                   2.0   \n",
       "3  25.0      0        23.706539                   2.0   \n",
       "4  61.0      0        14.628739                   3.0   \n",
       "\n",
       "  Departure/Arrival time convenient Ease of Online booking Gate location  \\\n",
       "0                                 4                      3             1   \n",
       "1                                 2                      3             3   \n",
       "2                                 2                      2             2   \n",
       "3                                 5                      5             5   \n",
       "4                                 3                      3             3   \n",
       "\n",
       "  Food and drink Online boarding Seat comfort  ... Leg room service  \\\n",
       "0              5               3            5  ...              3.0   \n",
       "1              1               3            1  ...              5.0   \n",
       "2              5               5            5  ...              3.0   \n",
       "3              2               2            2  ...              5.0   \n",
       "4              4               5            5  ...              4.0   \n",
       "\n",
       "  Baggage handling Checkin service Inflight service Cleanliness  \\\n",
       "0                4               4                5         5.0   \n",
       "1                3               1                4         1.0   \n",
       "2                4               4                4         5.0   \n",
       "3                3               1                4         2.0   \n",
       "4                4               3                3         3.0   \n",
       "\n",
       "  Arrival Delay in Minutes satisfaction  Gender_Male  \\\n",
       "0                     18.0            0            1   \n",
       "1                      6.0            0            1   \n",
       "2                      0.0            1            0   \n",
       "3                      9.0            0            0   \n",
       "4                      0.0            1            1   \n",
       "\n",
       "   Customer Type_disloyal Customer  Type of Travel_Personal Travel  \n",
       "0                                0                               1  \n",
       "1                                1                               0  \n",
       "2                                0                               0  \n",
       "3                                0                               0  \n",
       "4                                0                               0  \n",
       "\n",
       "[5 rows x 22 columns]"
      ]
     },
     "execution_count": 35,
     "metadata": {},
     "output_type": "execute_result"
    }
   ],
   "source": [
    "df.head()"
   ]
  },
  {
   "cell_type": "markdown",
   "id": "4488f264",
   "metadata": {},
   "source": [
    "##  separate the features and the target  "
   ]
  },
  {
   "cell_type": "code",
   "execution_count": 36,
   "id": "f379fc20",
   "metadata": {},
   "outputs": [],
   "source": [
    "x = df.drop('satisfaction', axis = 1)\n",
    "y = df.satisfaction"
   ]
  },
  {
   "cell_type": "code",
   "execution_count": 37,
   "id": "f5ebc8e5",
   "metadata": {},
   "outputs": [],
   "source": [
    "# selection = ExtraTreesRegressor()\n",
    "# selection.fit(x,y)\n",
    "\n",
    "# plt.figure(figsize=(8,8))\n",
    "# feat_importances = pd.Series(selection.feature_importances_ , index=x.columns)\n",
    "# feat_importances.nlargest(20).plot(kind='barh') # visualizing the top 20 features only!"
   ]
  },
  {
   "cell_type": "markdown",
   "id": "bc1d9de0",
   "metadata": {},
   "source": [
    "#### split training and testing data "
   ]
  },
  {
   "cell_type": "code",
   "execution_count": 38,
   "id": "2b4a3283",
   "metadata": {},
   "outputs": [],
   "source": [
    "from sklearn.model_selection import train_test_split\n",
    "xtrain, xtest, ytrain, ytest = train_test_split(x, y, test_size=0.20, random_state=1)"
   ]
  },
  {
   "cell_type": "code",
   "execution_count": 39,
   "id": "66343a87",
   "metadata": {},
   "outputs": [
    {
     "data": {
      "text/html": [
       "<div>\n",
       "<style scoped>\n",
       "    .dataframe tbody tr th:only-of-type {\n",
       "        vertical-align: middle;\n",
       "    }\n",
       "\n",
       "    .dataframe tbody tr th {\n",
       "        vertical-align: top;\n",
       "    }\n",
       "\n",
       "    .dataframe thead th {\n",
       "        text-align: right;\n",
       "    }\n",
       "</style>\n",
       "<table border=\"1\" class=\"dataframe\">\n",
       "  <thead>\n",
       "    <tr style=\"text-align: right;\">\n",
       "      <th></th>\n",
       "      <th>Age</th>\n",
       "      <th>Class</th>\n",
       "      <th>Flight Distance</th>\n",
       "      <th>Inflight wifi service</th>\n",
       "      <th>Departure/Arrival time convenient</th>\n",
       "      <th>Ease of Online booking</th>\n",
       "      <th>Gate location</th>\n",
       "      <th>Food and drink</th>\n",
       "      <th>Online boarding</th>\n",
       "      <th>Seat comfort</th>\n",
       "      <th>...</th>\n",
       "      <th>On-board service</th>\n",
       "      <th>Leg room service</th>\n",
       "      <th>Baggage handling</th>\n",
       "      <th>Checkin service</th>\n",
       "      <th>Inflight service</th>\n",
       "      <th>Cleanliness</th>\n",
       "      <th>Arrival Delay in Minutes</th>\n",
       "      <th>Gender_Male</th>\n",
       "      <th>Customer Type_disloyal Customer</th>\n",
       "      <th>Type of Travel_Personal Travel</th>\n",
       "    </tr>\n",
       "  </thead>\n",
       "  <tbody>\n",
       "    <tr>\n",
       "      <th>91153</th>\n",
       "      <td>30.0</td>\n",
       "      <td>1</td>\n",
       "      <td>13.892444</td>\n",
       "      <td>3.0</td>\n",
       "      <td>4</td>\n",
       "      <td>3</td>\n",
       "      <td>3</td>\n",
       "      <td>5</td>\n",
       "      <td>4</td>\n",
       "      <td>5</td>\n",
       "      <td>...</td>\n",
       "      <td>4</td>\n",
       "      <td>5.0</td>\n",
       "      <td>3</td>\n",
       "      <td>4</td>\n",
       "      <td>4</td>\n",
       "      <td>5.0</td>\n",
       "      <td>0.0</td>\n",
       "      <td>0</td>\n",
       "      <td>0</td>\n",
       "      <td>1</td>\n",
       "    </tr>\n",
       "    <tr>\n",
       "      <th>49716</th>\n",
       "      <td>51.0</td>\n",
       "      <td>1</td>\n",
       "      <td>30.413813</td>\n",
       "      <td>2.0</td>\n",
       "      <td>1</td>\n",
       "      <td>1</td>\n",
       "      <td>1</td>\n",
       "      <td>5</td>\n",
       "      <td>3</td>\n",
       "      <td>2</td>\n",
       "      <td>...</td>\n",
       "      <td>2</td>\n",
       "      <td>2.0</td>\n",
       "      <td>2</td>\n",
       "      <td>3</td>\n",
       "      <td>2</td>\n",
       "      <td>3.0</td>\n",
       "      <td>29.0</td>\n",
       "      <td>0</td>\n",
       "      <td>0</td>\n",
       "      <td>0</td>\n",
       "    </tr>\n",
       "    <tr>\n",
       "      <th>5619</th>\n",
       "      <td>27.0</td>\n",
       "      <td>1</td>\n",
       "      <td>22.472205</td>\n",
       "      <td>3.0</td>\n",
       "      <td>4</td>\n",
       "      <td>3</td>\n",
       "      <td>4</td>\n",
       "      <td>1</td>\n",
       "      <td>4</td>\n",
       "      <td>1</td>\n",
       "      <td>...</td>\n",
       "      <td>5</td>\n",
       "      <td>5.0</td>\n",
       "      <td>2</td>\n",
       "      <td>3</td>\n",
       "      <td>2</td>\n",
       "      <td>1.0</td>\n",
       "      <td>0.0</td>\n",
       "      <td>1</td>\n",
       "      <td>1</td>\n",
       "      <td>0</td>\n",
       "    </tr>\n",
       "    <tr>\n",
       "      <th>81787</th>\n",
       "      <td>52.0</td>\n",
       "      <td>0</td>\n",
       "      <td>54.341513</td>\n",
       "      <td>2.0</td>\n",
       "      <td>2</td>\n",
       "      <td>2</td>\n",
       "      <td>2</td>\n",
       "      <td>3</td>\n",
       "      <td>4</td>\n",
       "      <td>5</td>\n",
       "      <td>...</td>\n",
       "      <td>5</td>\n",
       "      <td>5.0</td>\n",
       "      <td>5</td>\n",
       "      <td>4</td>\n",
       "      <td>5</td>\n",
       "      <td>5.0</td>\n",
       "      <td>2.0</td>\n",
       "      <td>0</td>\n",
       "      <td>0</td>\n",
       "      <td>0</td>\n",
       "    </tr>\n",
       "    <tr>\n",
       "      <th>12043</th>\n",
       "      <td>15.0</td>\n",
       "      <td>1</td>\n",
       "      <td>36.769553</td>\n",
       "      <td>4.0</td>\n",
       "      <td>4</td>\n",
       "      <td>4</td>\n",
       "      <td>2</td>\n",
       "      <td>2</td>\n",
       "      <td>4</td>\n",
       "      <td>2</td>\n",
       "      <td>...</td>\n",
       "      <td>4</td>\n",
       "      <td>3.0</td>\n",
       "      <td>5</td>\n",
       "      <td>3</td>\n",
       "      <td>5</td>\n",
       "      <td>2.0</td>\n",
       "      <td>0.0</td>\n",
       "      <td>0</td>\n",
       "      <td>1</td>\n",
       "      <td>0</td>\n",
       "    </tr>\n",
       "    <tr>\n",
       "      <th>...</th>\n",
       "      <td>...</td>\n",
       "      <td>...</td>\n",
       "      <td>...</td>\n",
       "      <td>...</td>\n",
       "      <td>...</td>\n",
       "      <td>...</td>\n",
       "      <td>...</td>\n",
       "      <td>...</td>\n",
       "      <td>...</td>\n",
       "      <td>...</td>\n",
       "      <td>...</td>\n",
       "      <td>...</td>\n",
       "      <td>...</td>\n",
       "      <td>...</td>\n",
       "      <td>...</td>\n",
       "      <td>...</td>\n",
       "      <td>...</td>\n",
       "      <td>...</td>\n",
       "      <td>...</td>\n",
       "      <td>...</td>\n",
       "      <td>...</td>\n",
       "    </tr>\n",
       "    <tr>\n",
       "      <th>50057</th>\n",
       "      <td>52.0</td>\n",
       "      <td>0</td>\n",
       "      <td>22.271057</td>\n",
       "      <td>1.0</td>\n",
       "      <td>1</td>\n",
       "      <td>1</td>\n",
       "      <td>1</td>\n",
       "      <td>2</td>\n",
       "      <td>4</td>\n",
       "      <td>4</td>\n",
       "      <td>...</td>\n",
       "      <td>5</td>\n",
       "      <td>5.0</td>\n",
       "      <td>5</td>\n",
       "      <td>5</td>\n",
       "      <td>5</td>\n",
       "      <td>5.0</td>\n",
       "      <td>1.0</td>\n",
       "      <td>0</td>\n",
       "      <td>0</td>\n",
       "      <td>0</td>\n",
       "    </tr>\n",
       "    <tr>\n",
       "      <th>98047</th>\n",
       "      <td>44.0</td>\n",
       "      <td>1</td>\n",
       "      <td>20.784610</td>\n",
       "      <td>2.0</td>\n",
       "      <td>4</td>\n",
       "      <td>2</td>\n",
       "      <td>4</td>\n",
       "      <td>4</td>\n",
       "      <td>4</td>\n",
       "      <td>4</td>\n",
       "      <td>...</td>\n",
       "      <td>2</td>\n",
       "      <td>2.0</td>\n",
       "      <td>2</td>\n",
       "      <td>5</td>\n",
       "      <td>2</td>\n",
       "      <td>5.0</td>\n",
       "      <td>0.0</td>\n",
       "      <td>0</td>\n",
       "      <td>0</td>\n",
       "      <td>1</td>\n",
       "    </tr>\n",
       "    <tr>\n",
       "      <th>5192</th>\n",
       "      <td>46.0</td>\n",
       "      <td>0</td>\n",
       "      <td>59.093147</td>\n",
       "      <td>3.0</td>\n",
       "      <td>1</td>\n",
       "      <td>1</td>\n",
       "      <td>1</td>\n",
       "      <td>3</td>\n",
       "      <td>4</td>\n",
       "      <td>3</td>\n",
       "      <td>...</td>\n",
       "      <td>3</td>\n",
       "      <td>3.0</td>\n",
       "      <td>3</td>\n",
       "      <td>2</td>\n",
       "      <td>3</td>\n",
       "      <td>3.0</td>\n",
       "      <td>0.0</td>\n",
       "      <td>1</td>\n",
       "      <td>0</td>\n",
       "      <td>0</td>\n",
       "    </tr>\n",
       "    <tr>\n",
       "      <th>77708</th>\n",
       "      <td>37.0</td>\n",
       "      <td>0</td>\n",
       "      <td>19.416488</td>\n",
       "      <td>4.0</td>\n",
       "      <td>4</td>\n",
       "      <td>4</td>\n",
       "      <td>4</td>\n",
       "      <td>2</td>\n",
       "      <td>4</td>\n",
       "      <td>2</td>\n",
       "      <td>...</td>\n",
       "      <td>3</td>\n",
       "      <td>2.0</td>\n",
       "      <td>5</td>\n",
       "      <td>3</td>\n",
       "      <td>4</td>\n",
       "      <td>2.0</td>\n",
       "      <td>0.0</td>\n",
       "      <td>0</td>\n",
       "      <td>1</td>\n",
       "      <td>0</td>\n",
       "    </tr>\n",
       "    <tr>\n",
       "      <th>98539</th>\n",
       "      <td>23.0</td>\n",
       "      <td>0</td>\n",
       "      <td>53.507009</td>\n",
       "      <td>3.0</td>\n",
       "      <td>3</td>\n",
       "      <td>3</td>\n",
       "      <td>3</td>\n",
       "      <td>4</td>\n",
       "      <td>4</td>\n",
       "      <td>4</td>\n",
       "      <td>...</td>\n",
       "      <td>5</td>\n",
       "      <td>1.0</td>\n",
       "      <td>1</td>\n",
       "      <td>4</td>\n",
       "      <td>5</td>\n",
       "      <td>4.0</td>\n",
       "      <td>47.0</td>\n",
       "      <td>0</td>\n",
       "      <td>0</td>\n",
       "      <td>0</td>\n",
       "    </tr>\n",
       "  </tbody>\n",
       "</table>\n",
       "<p>83123 rows × 21 columns</p>\n",
       "</div>"
      ],
      "text/plain": [
       "        Age  Class  Flight Distance Inflight wifi service  \\\n",
       "91153  30.0      1        13.892444                   3.0   \n",
       "49716  51.0      1        30.413813                   2.0   \n",
       "5619   27.0      1        22.472205                   3.0   \n",
       "81787  52.0      0        54.341513                   2.0   \n",
       "12043  15.0      1        36.769553                   4.0   \n",
       "...     ...    ...              ...                   ...   \n",
       "50057  52.0      0        22.271057                   1.0   \n",
       "98047  44.0      1        20.784610                   2.0   \n",
       "5192   46.0      0        59.093147                   3.0   \n",
       "77708  37.0      0        19.416488                   4.0   \n",
       "98539  23.0      0        53.507009                   3.0   \n",
       "\n",
       "      Departure/Arrival time convenient Ease of Online booking Gate location  \\\n",
       "91153                                 4                      3             3   \n",
       "49716                                 1                      1             1   \n",
       "5619                                  4                      3             4   \n",
       "81787                                 2                      2             2   \n",
       "12043                                 4                      4             2   \n",
       "...                                 ...                    ...           ...   \n",
       "50057                                 1                      1             1   \n",
       "98047                                 4                      2             4   \n",
       "5192                                  1                      1             1   \n",
       "77708                                 4                      4             4   \n",
       "98539                                 3                      3             3   \n",
       "\n",
       "      Food and drink Online boarding Seat comfort  ... On-board service  \\\n",
       "91153              5               4            5  ...                4   \n",
       "49716              5               3            2  ...                2   \n",
       "5619               1               4            1  ...                5   \n",
       "81787              3               4            5  ...                5   \n",
       "12043              2               4            2  ...                4   \n",
       "...              ...             ...          ...  ...              ...   \n",
       "50057              2               4            4  ...                5   \n",
       "98047              4               4            4  ...                2   \n",
       "5192               3               4            3  ...                3   \n",
       "77708              2               4            2  ...                3   \n",
       "98539              4               4            4  ...                5   \n",
       "\n",
       "      Leg room service Baggage handling Checkin service Inflight service  \\\n",
       "91153              5.0                3               4                4   \n",
       "49716              2.0                2               3                2   \n",
       "5619               5.0                2               3                2   \n",
       "81787              5.0                5               4                5   \n",
       "12043              3.0                5               3                5   \n",
       "...                ...              ...             ...              ...   \n",
       "50057              5.0                5               5                5   \n",
       "98047              2.0                2               5                2   \n",
       "5192               3.0                3               2                3   \n",
       "77708              2.0                5               3                4   \n",
       "98539              1.0                1               4                5   \n",
       "\n",
       "      Cleanliness Arrival Delay in Minutes  Gender_Male  \\\n",
       "91153         5.0                      0.0            0   \n",
       "49716         3.0                     29.0            0   \n",
       "5619          1.0                      0.0            1   \n",
       "81787         5.0                      2.0            0   \n",
       "12043         2.0                      0.0            0   \n",
       "...           ...                      ...          ...   \n",
       "50057         5.0                      1.0            0   \n",
       "98047         5.0                      0.0            0   \n",
       "5192          3.0                      0.0            1   \n",
       "77708         2.0                      0.0            0   \n",
       "98539         4.0                     47.0            0   \n",
       "\n",
       "       Customer Type_disloyal Customer  Type of Travel_Personal Travel  \n",
       "91153                                0                               1  \n",
       "49716                                0                               0  \n",
       "5619                                 1                               0  \n",
       "81787                                0                               0  \n",
       "12043                                1                               0  \n",
       "...                                ...                             ...  \n",
       "50057                                0                               0  \n",
       "98047                                0                               1  \n",
       "5192                                 0                               0  \n",
       "77708                                1                               0  \n",
       "98539                                0                               0  \n",
       "\n",
       "[83123 rows x 21 columns]"
      ]
     },
     "execution_count": 39,
     "metadata": {},
     "output_type": "execute_result"
    }
   ],
   "source": [
    "xtrain"
   ]
  },
  {
   "cell_type": "markdown",
   "id": "85342d50",
   "metadata": {},
   "source": [
    "### Scaling: Scaling is very important, It helps to ML models perform in a better way.\n",
    "#### We only do sacling of numerical indepedent variables"
   ]
  },
  {
   "cell_type": "code",
   "execution_count": 40,
   "id": "44f17a6f",
   "metadata": {},
   "outputs": [],
   "source": [
    "from sklearn.preprocessing import StandardScaler\n",
    "scaler=StandardScaler()"
   ]
  },
  {
   "cell_type": "code",
   "execution_count": 41,
   "id": "0aed8f0b",
   "metadata": {},
   "outputs": [],
   "source": [
    "xtrain=scaler.fit_transform(xtrain)"
   ]
  },
  {
   "cell_type": "code",
   "execution_count": 42,
   "id": "9a656a99",
   "metadata": {},
   "outputs": [],
   "source": [
    "xtest=scaler.transform(xtest)"
   ]
  },
  {
   "cell_type": "code",
   "execution_count": 43,
   "id": "cc25c9f0",
   "metadata": {},
   "outputs": [],
   "source": [
    "import pickle\n",
    "pickle.dump(scaler,open('scaling.pkl','wb'))"
   ]
  },
  {
   "cell_type": "code",
   "execution_count": 44,
   "id": "fe761342",
   "metadata": {},
   "outputs": [
    {
     "data": {
      "text/plain": [
       "array([[-0.61929999,  0.65383259, -1.27534262, ..., -0.9867224 ,\n",
       "        -0.47320922,  1.49003326],\n",
       "       [ 0.77157504,  0.65383259, -0.08491476, ..., -0.9867224 ,\n",
       "        -0.47320922, -0.67112596],\n",
       "       [-0.81799642,  0.65383259, -0.65713799, ...,  1.01345626,\n",
       "         2.11323016, -0.67112596],\n",
       "       ...,\n",
       "       [ 0.44041432, -0.95811801,  1.98154105, ...,  1.01345626,\n",
       "        -0.47320922, -0.67112596],\n",
       "       [-0.15567498, -0.95811801, -0.87731411, ..., -0.9867224 ,\n",
       "         2.11323016, -0.67112596],\n",
       "       [-1.082925  , -0.95811801,  1.57903843, ..., -0.9867224 ,\n",
       "        -0.47320922, -0.67112596]])"
      ]
     },
     "execution_count": 44,
     "metadata": {},
     "output_type": "execute_result"
    }
   ],
   "source": [
    "xtrain"
   ]
  },
  {
   "cell_type": "code",
   "execution_count": 45,
   "id": "dc076353",
   "metadata": {},
   "outputs": [
    {
     "data": {
      "text/plain": [
       "array([[ 0.1092536 ,  0.65383259, -1.02211295, ...,  1.01345626,\n",
       "        -0.47320922, -0.67112596],\n",
       "       [-1.41408572, -0.95811801, -0.85157417, ..., -0.9867224 ,\n",
       "        -0.47320922, -0.67112596],\n",
       "       [-1.74524644,  2.2657832 , -0.55759448, ..., -0.9867224 ,\n",
       "        -0.47320922,  1.49003326],\n",
       "       ...,\n",
       "       [-0.08944284, -0.95811801,  0.4464876 , ..., -0.9867224 ,\n",
       "        -0.47320922, -0.67112596],\n",
       "       [ 0.90403932,  0.65383259, -1.27016943, ...,  1.01345626,\n",
       "        -0.47320922, -0.67112596],\n",
       "       [ 0.30795003, -0.95811801,  0.71453849, ..., -0.9867224 ,\n",
       "        -0.47320922, -0.67112596]])"
      ]
     },
     "execution_count": 45,
     "metadata": {},
     "output_type": "execute_result"
    }
   ],
   "source": [
    "xtest"
   ]
  },
  {
   "cell_type": "code",
   "execution_count": 46,
   "id": "5558f49a",
   "metadata": {},
   "outputs": [],
   "source": [
    "# x.head(1)"
   ]
  },
  {
   "cell_type": "code",
   "execution_count": 47,
   "id": "7168d955",
   "metadata": {},
   "outputs": [],
   "source": [
    "# print(scaler.transform(x.head()))"
   ]
  },
  {
   "cell_type": "code",
   "execution_count": 48,
   "id": "791e3fba",
   "metadata": {},
   "outputs": [],
   "source": [
    "# sc=StandardScaler()\n",
    "# xtrain=sc.fit_transform(xtrain)\n",
    "# xtest=sc.fit_transform(xtest)"
   ]
  },
  {
   "cell_type": "code",
   "execution_count": 49,
   "id": "5718a408",
   "metadata": {},
   "outputs": [],
   "source": [
    "# print(xtrain)"
   ]
  },
  {
   "cell_type": "markdown",
   "id": "de8b61a0",
   "metadata": {},
   "source": [
    "## Model Building"
   ]
  },
  {
   "cell_type": "code",
   "execution_count": 50,
   "id": "b7b2c214",
   "metadata": {},
   "outputs": [],
   "source": [
    "# defining function to check classification report accuracy_score and confusion_matrix\n",
    "def nmodel(model):\n",
    "    model.fit(xtrain,ytrain)\n",
    "    ypred=model.predict(xtest)\n",
    "    print(\"Rlassification Report : \")\n",
    "    print(classification_report(ytest,ypred))\n",
    "    return model"
   ]
  },
  {
   "cell_type": "markdown",
   "id": "25580576",
   "metadata": {},
   "source": [
    "### Logistic Regression"
   ]
  },
  {
   "cell_type": "code",
   "execution_count": 51,
   "id": "1de09e49",
   "metadata": {},
   "outputs": [],
   "source": [
    "lr=LogisticRegression()"
   ]
  },
  {
   "cell_type": "code",
   "execution_count": 52,
   "id": "ac9a5eec",
   "metadata": {},
   "outputs": [
    {
     "name": "stdout",
     "output_type": "stream",
     "text": [
      "Rlassification Report : \n",
      "              precision    recall  f1-score   support\n",
      "\n",
      "           0       0.90      0.90      0.90     11875\n",
      "           1       0.87      0.86      0.87      8906\n",
      "\n",
      "    accuracy                           0.89     20781\n",
      "   macro avg       0.88      0.88      0.88     20781\n",
      "weighted avg       0.89      0.89      0.89     20781\n",
      "\n"
     ]
    },
    {
     "data": {
      "text/plain": [
       "LogisticRegression()"
      ]
     },
     "execution_count": 52,
     "metadata": {},
     "output_type": "execute_result"
    }
   ],
   "source": [
    "nmodel(lr)"
   ]
  },
  {
   "cell_type": "code",
   "execution_count": 53,
   "id": "99383c0d",
   "metadata": {},
   "outputs": [
    {
     "name": "stdout",
     "output_type": "stream",
     "text": [
      "Classification Report\n",
      "              precision    recall  f1-score   support\n",
      "\n",
      "           0       0.90      0.90      0.90     11875\n",
      "           1       0.87      0.86      0.87      8906\n",
      "\n",
      "    accuracy                           0.89     20781\n",
      "   macro avg       0.88      0.88      0.88     20781\n",
      "weighted avg       0.89      0.89      0.89     20781\n",
      "\n",
      "Confusion Matrix\n",
      "[[10736  1139]\n",
      " [ 1247  7659]]\n"
     ]
    }
   ],
   "source": [
    "# increase max_itr value\n",
    "lr1=LogisticRegression(max_iter=1000)\n",
    "lr1.fit(xtrain, ytrain)\n",
    "ypred1 = lr1.predict(xtest)\n",
    "print(\"Classification Report\")\n",
    "print(classification_report(ytest, ypred1))\n",
    "print(\"Confusion Matrix\")\n",
    "print(confusion_matrix(ytest,ypred1))"
   ]
  },
  {
   "cell_type": "code",
   "execution_count": 54,
   "id": "6b270cdf",
   "metadata": {
    "scrolled": false
   },
   "outputs": [
    {
     "name": "stdout",
     "output_type": "stream",
     "text": [
      "Fitting 5 folds for each of 18 candidates, totalling 90 fits\n",
      "[CV 1/5] END C=0.01, max_iter=100, solver=lbfgs;, score=0.889 total time=   0.0s\n",
      "[CV 2/5] END C=0.01, max_iter=100, solver=lbfgs;, score=0.886 total time=   0.0s\n",
      "[CV 3/5] END C=0.01, max_iter=100, solver=lbfgs;, score=0.887 total time=   0.0s\n",
      "[CV 4/5] END C=0.01, max_iter=100, solver=lbfgs;, score=0.886 total time=   0.0s\n",
      "[CV 5/5] END C=0.01, max_iter=100, solver=lbfgs;, score=0.891 total time=   0.0s\n",
      "[CV 1/5] END ..C=0.01, max_iter=100, solver=sag;, score=0.889 total time=   0.5s\n",
      "[CV 2/5] END ..C=0.01, max_iter=100, solver=sag;, score=0.886 total time=   0.5s\n",
      "[CV 3/5] END ..C=0.01, max_iter=100, solver=sag;, score=0.887 total time=   0.5s\n",
      "[CV 4/5] END ..C=0.01, max_iter=100, solver=sag;, score=0.886 total time=   0.6s\n",
      "[CV 5/5] END ..C=0.01, max_iter=100, solver=sag;, score=0.891 total time=   0.5s\n",
      "[CV 1/5] END .C=0.01, max_iter=100, solver=saga;, score=0.889 total time=   0.3s\n",
      "[CV 2/5] END .C=0.01, max_iter=100, solver=saga;, score=0.886 total time=   0.4s\n",
      "[CV 3/5] END .C=0.01, max_iter=100, solver=saga;, score=0.887 total time=   0.3s\n",
      "[CV 4/5] END .C=0.01, max_iter=100, solver=saga;, score=0.886 total time=   0.3s\n",
      "[CV 5/5] END .C=0.01, max_iter=100, solver=saga;, score=0.891 total time=   0.4s\n",
      "[CV 1/5] END C=0.01, max_iter=300, solver=lbfgs;, score=0.889 total time=   0.0s\n",
      "[CV 2/5] END C=0.01, max_iter=300, solver=lbfgs;, score=0.886 total time=   0.0s\n",
      "[CV 3/5] END C=0.01, max_iter=300, solver=lbfgs;, score=0.887 total time=   0.0s\n",
      "[CV 4/5] END C=0.01, max_iter=300, solver=lbfgs;, score=0.886 total time=   0.0s\n",
      "[CV 5/5] END C=0.01, max_iter=300, solver=lbfgs;, score=0.891 total time=   0.0s\n",
      "[CV 1/5] END ..C=0.01, max_iter=300, solver=sag;, score=0.889 total time=   0.4s\n",
      "[CV 2/5] END ..C=0.01, max_iter=300, solver=sag;, score=0.886 total time=   0.4s\n",
      "[CV 3/5] END ..C=0.01, max_iter=300, solver=sag;, score=0.887 total time=   0.4s\n",
      "[CV 4/5] END ..C=0.01, max_iter=300, solver=sag;, score=0.886 total time=   0.4s\n",
      "[CV 5/5] END ..C=0.01, max_iter=300, solver=sag;, score=0.891 total time=   0.3s\n",
      "[CV 1/5] END .C=0.01, max_iter=300, solver=saga;, score=0.889 total time=   0.3s\n",
      "[CV 2/5] END .C=0.01, max_iter=300, solver=saga;, score=0.886 total time=   0.3s\n",
      "[CV 3/5] END .C=0.01, max_iter=300, solver=saga;, score=0.887 total time=   0.3s\n",
      "[CV 4/5] END .C=0.01, max_iter=300, solver=saga;, score=0.886 total time=   0.4s\n",
      "[CV 5/5] END .C=0.01, max_iter=300, solver=saga;, score=0.891 total time=   0.3s\n",
      "[CV 1/5] END .C=0.1, max_iter=100, solver=lbfgs;, score=0.889 total time=   0.0s\n",
      "[CV 2/5] END .C=0.1, max_iter=100, solver=lbfgs;, score=0.885 total time=   0.0s\n",
      "[CV 3/5] END .C=0.1, max_iter=100, solver=lbfgs;, score=0.887 total time=   0.0s\n",
      "[CV 4/5] END .C=0.1, max_iter=100, solver=lbfgs;, score=0.887 total time=   0.0s\n",
      "[CV 5/5] END .C=0.1, max_iter=100, solver=lbfgs;, score=0.891 total time=   0.0s\n",
      "[CV 1/5] END ...C=0.1, max_iter=100, solver=sag;, score=0.889 total time=   0.5s\n",
      "[CV 2/5] END ...C=0.1, max_iter=100, solver=sag;, score=0.885 total time=   0.5s\n",
      "[CV 3/5] END ...C=0.1, max_iter=100, solver=sag;, score=0.887 total time=   0.5s\n",
      "[CV 4/5] END ...C=0.1, max_iter=100, solver=sag;, score=0.887 total time=   0.5s\n",
      "[CV 5/5] END ...C=0.1, max_iter=100, solver=sag;, score=0.891 total time=   0.6s\n",
      "[CV 1/5] END ..C=0.1, max_iter=100, solver=saga;, score=0.889 total time=   0.3s\n",
      "[CV 2/5] END ..C=0.1, max_iter=100, solver=saga;, score=0.885 total time=   0.3s\n",
      "[CV 3/5] END ..C=0.1, max_iter=100, solver=saga;, score=0.887 total time=   0.3s\n",
      "[CV 4/5] END ..C=0.1, max_iter=100, solver=saga;, score=0.887 total time=   0.3s\n",
      "[CV 5/5] END ..C=0.1, max_iter=100, solver=saga;, score=0.891 total time=   0.3s\n",
      "[CV 1/5] END .C=0.1, max_iter=300, solver=lbfgs;, score=0.889 total time=   0.0s\n",
      "[CV 2/5] END .C=0.1, max_iter=300, solver=lbfgs;, score=0.885 total time=   0.0s\n",
      "[CV 3/5] END .C=0.1, max_iter=300, solver=lbfgs;, score=0.887 total time=   0.0s\n",
      "[CV 4/5] END .C=0.1, max_iter=300, solver=lbfgs;, score=0.887 total time=   0.0s\n",
      "[CV 5/5] END .C=0.1, max_iter=300, solver=lbfgs;, score=0.891 total time=   0.0s\n",
      "[CV 1/5] END ...C=0.1, max_iter=300, solver=sag;, score=0.889 total time=   0.5s\n",
      "[CV 2/5] END ...C=0.1, max_iter=300, solver=sag;, score=0.885 total time=   0.5s\n",
      "[CV 3/5] END ...C=0.1, max_iter=300, solver=sag;, score=0.887 total time=   0.6s\n",
      "[CV 4/5] END ...C=0.1, max_iter=300, solver=sag;, score=0.887 total time=   0.5s\n",
      "[CV 5/5] END ...C=0.1, max_iter=300, solver=sag;, score=0.891 total time=   0.5s\n",
      "[CV 1/5] END ..C=0.1, max_iter=300, solver=saga;, score=0.889 total time=   0.3s\n",
      "[CV 2/5] END ..C=0.1, max_iter=300, solver=saga;, score=0.885 total time=   0.3s\n",
      "[CV 3/5] END ..C=0.1, max_iter=300, solver=saga;, score=0.887 total time=   0.3s\n",
      "[CV 4/5] END ..C=0.1, max_iter=300, solver=saga;, score=0.887 total time=   0.4s\n",
      "[CV 5/5] END ..C=0.1, max_iter=300, solver=saga;, score=0.891 total time=   0.3s\n",
      "[CV 1/5] END ...C=1, max_iter=100, solver=lbfgs;, score=0.889 total time=   0.0s\n",
      "[CV 2/5] END ...C=1, max_iter=100, solver=lbfgs;, score=0.885 total time=   0.0s\n",
      "[CV 3/5] END ...C=1, max_iter=100, solver=lbfgs;, score=0.886 total time=   0.0s\n",
      "[CV 4/5] END ...C=1, max_iter=100, solver=lbfgs;, score=0.887 total time=   0.0s\n",
      "[CV 5/5] END ...C=1, max_iter=100, solver=lbfgs;, score=0.891 total time=   0.0s\n",
      "[CV 1/5] END .....C=1, max_iter=100, solver=sag;, score=0.889 total time=   0.5s\n",
      "[CV 2/5] END .....C=1, max_iter=100, solver=sag;, score=0.885 total time=   0.5s\n",
      "[CV 3/5] END .....C=1, max_iter=100, solver=sag;, score=0.886 total time=   0.5s\n",
      "[CV 4/5] END .....C=1, max_iter=100, solver=sag;, score=0.887 total time=   0.6s\n",
      "[CV 5/5] END .....C=1, max_iter=100, solver=sag;, score=0.891 total time=   0.6s\n",
      "[CV 1/5] END ....C=1, max_iter=100, solver=saga;, score=0.889 total time=   0.4s\n",
      "[CV 2/5] END ....C=1, max_iter=100, solver=saga;, score=0.885 total time=   0.4s\n",
      "[CV 3/5] END ....C=1, max_iter=100, solver=saga;, score=0.886 total time=   0.3s\n",
      "[CV 4/5] END ....C=1, max_iter=100, solver=saga;, score=0.887 total time=   0.2s\n",
      "[CV 5/5] END ....C=1, max_iter=100, solver=saga;, score=0.891 total time=   0.3s\n",
      "[CV 1/5] END ...C=1, max_iter=300, solver=lbfgs;, score=0.889 total time=   0.0s\n",
      "[CV 2/5] END ...C=1, max_iter=300, solver=lbfgs;, score=0.885 total time=   0.0s\n",
      "[CV 3/5] END ...C=1, max_iter=300, solver=lbfgs;, score=0.886 total time=   0.0s\n",
      "[CV 4/5] END ...C=1, max_iter=300, solver=lbfgs;, score=0.887 total time=   0.0s\n",
      "[CV 5/5] END ...C=1, max_iter=300, solver=lbfgs;, score=0.891 total time=   0.0s\n",
      "[CV 1/5] END .....C=1, max_iter=300, solver=sag;, score=0.889 total time=   0.5s\n",
      "[CV 2/5] END .....C=1, max_iter=300, solver=sag;, score=0.885 total time=   0.5s\n",
      "[CV 3/5] END .....C=1, max_iter=300, solver=sag;, score=0.886 total time=   0.4s\n",
      "[CV 4/5] END .....C=1, max_iter=300, solver=sag;, score=0.887 total time=   0.5s\n",
      "[CV 5/5] END .....C=1, max_iter=300, solver=sag;, score=0.891 total time=   0.5s\n",
      "[CV 1/5] END ....C=1, max_iter=300, solver=saga;, score=0.889 total time=   0.3s\n",
      "[CV 2/5] END ....C=1, max_iter=300, solver=saga;, score=0.885 total time=   0.3s\n",
      "[CV 3/5] END ....C=1, max_iter=300, solver=saga;, score=0.886 total time=   0.4s\n",
      "[CV 4/5] END ....C=1, max_iter=300, solver=saga;, score=0.887 total time=   0.3s\n",
      "[CV 5/5] END ....C=1, max_iter=300, solver=saga;, score=0.891 total time=   0.4s\n",
      "Best Hyperparameters :  {'C': 0.01, 'max_iter': 300, 'solver': 'saga'}\n",
      "              precision    recall  f1-score   support\n",
      "\n",
      "           0       0.90      0.90      0.90     11875\n",
      "           1       0.87      0.86      0.87      8906\n",
      "\n",
      "    accuracy                           0.89     20781\n",
      "   macro avg       0.88      0.88      0.88     20781\n",
      "weighted avg       0.89      0.89      0.89     20781\n",
      "\n",
      "[[10737  1138]\n",
      " [ 1248  7658]]\n"
     ]
    }
   ],
   "source": [
    "# hypertuning using grid search cv\n",
    "param_grid = {\n",
    "    'C': [0.01, 0.1, 1],\n",
    "    'solver': ['lbfgs','sag', 'saga'],\n",
    "    'max_iter': [100, 300]\n",
    "}\n",
    "\n",
    "lr11 = LogisticRegression()\n",
    "grid_search = GridSearchCV(lr11, param_grid, cv=5,verbose=3)\n",
    "grid_search.fit(xtrain, ytrain)\n",
    "\n",
    "best_params = grid_search.best_params_\n",
    "best_lr = grid_search.best_estimator_\n",
    "\n",
    "print(\"Best Hyperparameters : \", best_params)\n",
    "ypred2 = best_lr.predict(xtest)\n",
    "print(classification_report(ytest, ypred2))\n",
    "print(confusion_matrix(ytest,ypred2))"
   ]
  },
  {
   "cell_type": "code",
   "execution_count": 55,
   "id": "b8baa421",
   "metadata": {},
   "outputs": [
    {
     "name": "stdout",
     "output_type": "stream",
     "text": [
      "              precision    recall  f1-score   support\n",
      "\n",
      "           0       0.90      0.90      0.90     11875\n",
      "           1       0.87      0.86      0.87      8906\n",
      "\n",
      "    accuracy                           0.89     20781\n",
      "   macro avg       0.88      0.88      0.88     20781\n",
      "weighted avg       0.88      0.89      0.89     20781\n",
      "\n"
     ]
    }
   ],
   "source": [
    "#Bagging with Logreg\n",
    "from sklearn.ensemble import BaggingClassifier\n",
    "bg=BaggingClassifier(LogisticRegression())\n",
    "bg.fit(xtrain,ytrain)\n",
    "ypred=bg.predict(xtest)\n",
    "print(classification_report(ytest,ypred))"
   ]
  },
  {
   "cell_type": "markdown",
   "id": "5a8cb4bd",
   "metadata": {},
   "source": [
    "### K Nearest Neighbors "
   ]
  },
  {
   "cell_type": "code",
   "execution_count": 56,
   "id": "36f362d2",
   "metadata": {},
   "outputs": [],
   "source": [
    "knn=KNeighborsClassifier()"
   ]
  },
  {
   "cell_type": "code",
   "execution_count": 57,
   "id": "1353a002",
   "metadata": {
    "scrolled": true
   },
   "outputs": [
    {
     "name": "stdout",
     "output_type": "stream",
     "text": [
      "Rlassification Report : \n",
      "              precision    recall  f1-score   support\n",
      "\n",
      "           0       0.92      0.96      0.94     11875\n",
      "           1       0.94      0.88      0.91      8906\n",
      "\n",
      "    accuracy                           0.93     20781\n",
      "   macro avg       0.93      0.92      0.92     20781\n",
      "weighted avg       0.93      0.93      0.93     20781\n",
      "\n"
     ]
    },
    {
     "data": {
      "text/plain": [
       "KNeighborsClassifier()"
      ]
     },
     "execution_count": 57,
     "metadata": {},
     "output_type": "execute_result"
    }
   ],
   "source": [
    "nmodel(knn)"
   ]
  },
  {
   "cell_type": "markdown",
   "id": "77c54dcb",
   "metadata": {},
   "source": [
    "#### finding a best k value"
   ]
  },
  {
   "cell_type": "code",
   "execution_count": 58,
   "id": "4d4a61b7",
   "metadata": {},
   "outputs": [],
   "source": [
    "accuracy = []\n",
    "for i in range(6,13):\n",
    "    knn = KNeighborsClassifier(n_neighbors=i)\n",
    "    knn.fit(xtrain,ytrain)\n",
    "    pred_i = knn.predict(xtest)\n",
    "    accuracy_i = accuracy_score(ytest, pred_i)\n",
    "    accuracy.append(accuracy_i)"
   ]
  },
  {
   "cell_type": "code",
   "execution_count": 59,
   "id": "803b86b7",
   "metadata": {},
   "outputs": [
    {
     "data": {
      "image/png": "[encoded data removed]",
      "text/plain": [
       "<Figure size 1080x432 with 1 Axes>"
      ]
     },
     "metadata": {},
     "output_type": "display_data"
    }
   ],
   "source": [
    "plt.figure(figsize=(15,6))\n",
    "plt.plot(range(6,13, 1), accuracy, color='blue', linestyle='dashed', marker='o',\n",
    "         markerfacecolor='red', markersize=10)\n",
    "plt.title('Accuracy vs. K Value')\n",
    "plt.xlabel('K')\n",
    "plt.ylabel('Accuracy')\n",
    "plt.show()\n",
    "# k=1\n",
    "# for i in accuracy:\n",
    "#     print(k,'=',i)\n",
    "#     k+=1"
   ]
  },
  {
   "cell_type": "code",
   "execution_count": 60,
   "id": "d8b6e77c",
   "metadata": {},
   "outputs": [],
   "source": [
    "# Maximum accuracy occurs when k = 11, lets re train our model for k = 11"
   ]
  },
  {
   "cell_type": "code",
   "execution_count": 61,
   "id": "1b718dba",
   "metadata": {},
   "outputs": [
    {
     "name": "stdout",
     "output_type": "stream",
     "text": [
      "Accuracy: 0.9292141860353207\n",
      "              precision    recall  f1-score   support\n",
      "\n",
      "           0       0.91      0.97      0.94     11875\n",
      "           1       0.95      0.88      0.91      8906\n",
      "\n",
      "    accuracy                           0.93     20781\n",
      "   macro avg       0.93      0.92      0.93     20781\n",
      "weighted avg       0.93      0.93      0.93     20781\n",
      "\n"
     ]
    }
   ],
   "source": [
    "knn = KNeighborsClassifier(n_neighbors = 11)\n",
    "knn.fit(xtrain, ytrain)\n",
    "y_pred = knn.predict(xtest)\n",
    "accuracy = accuracy_score(ytest, y_pred)\n",
    "print(f\"Accuracy: {accuracy}\")\n",
    "print(classification_report(ytest, y_pred))"
   ]
  },
  {
   "cell_type": "code",
   "execution_count": 62,
   "id": "60d2d195",
   "metadata": {},
   "outputs": [
    {
     "data": {
      "text/plain": [
       "<AxesSubplot:title={'center':'Confusion Matrix'}, xlabel='Predicted label', ylabel='True label'>"
      ]
     },
     "execution_count": 62,
     "metadata": {},
     "output_type": "execute_result"
    },
    {
     "data": {
      "image/png": "[encoded data removed]",
      "text/plain": [
       "<Figure size 432x432 with 2 Axes>"
      ]
     },
     "metadata": {},
     "output_type": "display_data"
    }
   ],
   "source": [
    "import scikitplot\n",
    "scikitplot.metrics.plot_confusion_matrix(ytest, y_pred, figsize=(6,6), cmap= 'YlGnBu')"
   ]
  },
  {
   "cell_type": "markdown",
   "id": "3d2faa1f",
   "metadata": {},
   "source": [
    "###  Decision Tree"
   ]
  },
  {
   "cell_type": "code",
   "execution_count": 63,
   "id": "85491460",
   "metadata": {},
   "outputs": [],
   "source": [
    "DT=DecisionTreeClassifier()"
   ]
  },
  {
   "cell_type": "code",
   "execution_count": 64,
   "id": "97c1825f",
   "metadata": {},
   "outputs": [
    {
     "name": "stdout",
     "output_type": "stream",
     "text": [
      "Rlassification Report : \n",
      "              precision    recall  f1-score   support\n",
      "\n",
      "           0       0.95      0.94      0.95     11875\n",
      "           1       0.93      0.94      0.93      8906\n",
      "\n",
      "    accuracy                           0.94     20781\n",
      "   macro avg       0.94      0.94      0.94     20781\n",
      "weighted avg       0.94      0.94      0.94     20781\n",
      "\n"
     ]
    },
    {
     "data": {
      "text/plain": [
       "DecisionTreeClassifier()"
      ]
     },
     "execution_count": 64,
     "metadata": {},
     "output_type": "execute_result"
    }
   ],
   "source": [
    "nmodel(DT)"
   ]
  },
  {
   "cell_type": "code",
   "execution_count": 65,
   "id": "9f2058cf",
   "metadata": {
    "scrolled": false
   },
   "outputs": [
    {
     "name": "stdout",
     "output_type": "stream",
     "text": [
      "Fitting 5 folds for each of 16 candidates, totalling 80 fits\n",
      "[CV 1/5] END criterion=gini, max_depth=10, min_samples_leaf=1, min_samples_split=5;, score=0.941 total time=   0.4s\n",
      "[CV 2/5] END criterion=gini, max_depth=10, min_samples_leaf=1, min_samples_split=5;, score=0.940 total time=   0.3s\n",
      "[CV 3/5] END criterion=gini, max_depth=10, min_samples_leaf=1, min_samples_split=5;, score=0.938 total time=   0.3s\n",
      "[CV 4/5] END criterion=gini, max_depth=10, min_samples_leaf=1, min_samples_split=5;, score=0.941 total time=   0.3s\n",
      "[CV 5/5] END criterion=gini, max_depth=10, min_samples_leaf=1, min_samples_split=5;, score=0.942 total time=   0.2s\n",
      "[CV 1/5] END criterion=gini, max_depth=10, min_samples_leaf=1, min_samples_split=10;, score=0.941 total time=   0.3s\n",
      "[CV 2/5] END criterion=gini, max_depth=10, min_samples_leaf=1, min_samples_split=10;, score=0.939 total time=   0.3s\n",
      "[CV 3/5] END criterion=gini, max_depth=10, min_samples_leaf=1, min_samples_split=10;, score=0.938 total time=   0.2s\n",
      "[CV 4/5] END criterion=gini, max_depth=10, min_samples_leaf=1, min_samples_split=10;, score=0.941 total time=   0.2s\n",
      "[CV 5/5] END criterion=gini, max_depth=10, min_samples_leaf=1, min_samples_split=10;, score=0.941 total time=   0.3s\n",
      "[CV 1/5] END criterion=gini, max_depth=10, min_samples_leaf=2, min_samples_split=5;, score=0.941 total time=   0.3s\n",
      "[CV 2/5] END criterion=gini, max_depth=10, min_samples_leaf=2, min_samples_split=5;, score=0.940 total time=   0.3s\n",
      "[CV 3/5] END criterion=gini, max_depth=10, min_samples_leaf=2, min_samples_split=5;, score=0.938 total time=   0.2s\n",
      "[CV 4/5] END criterion=gini, max_depth=10, min_samples_leaf=2, min_samples_split=5;, score=0.941 total time=   0.3s\n",
      "[CV 5/5] END criterion=gini, max_depth=10, min_samples_leaf=2, min_samples_split=5;, score=0.941 total time=   0.3s\n",
      "[CV 1/5] END criterion=gini, max_depth=10, min_samples_leaf=2, min_samples_split=10;, score=0.941 total time=   0.2s\n",
      "[CV 2/5] END criterion=gini, max_depth=10, min_samples_leaf=2, min_samples_split=10;, score=0.939 total time=   0.3s\n",
      "[CV 3/5] END criterion=gini, max_depth=10, min_samples_leaf=2, min_samples_split=10;, score=0.938 total time=   0.3s\n",
      "[CV 4/5] END criterion=gini, max_depth=10, min_samples_leaf=2, min_samples_split=10;, score=0.941 total time=   0.3s\n",
      "[CV 5/5] END criterion=gini, max_depth=10, min_samples_leaf=2, min_samples_split=10;, score=0.941 total time=   0.3s\n",
      "[CV 1/5] END criterion=gini, max_depth=20, min_samples_leaf=1, min_samples_split=5;, score=0.945 total time=   0.4s\n",
      "[CV 2/5] END criterion=gini, max_depth=20, min_samples_leaf=1, min_samples_split=5;, score=0.943 total time=   0.5s\n",
      "[CV 3/5] END criterion=gini, max_depth=20, min_samples_leaf=1, min_samples_split=5;, score=0.940 total time=   0.5s\n",
      "[CV 4/5] END criterion=gini, max_depth=20, min_samples_leaf=1, min_samples_split=5;, score=0.944 total time=   0.4s\n",
      "[CV 5/5] END criterion=gini, max_depth=20, min_samples_leaf=1, min_samples_split=5;, score=0.946 total time=   0.4s\n",
      "[CV 1/5] END criterion=gini, max_depth=20, min_samples_leaf=1, min_samples_split=10;, score=0.944 total time=   0.3s\n",
      "[CV 2/5] END criterion=gini, max_depth=20, min_samples_leaf=1, min_samples_split=10;, score=0.944 total time=   0.4s\n",
      "[CV 3/5] END criterion=gini, max_depth=20, min_samples_leaf=1, min_samples_split=10;, score=0.941 total time=   0.4s\n",
      "[CV 4/5] END criterion=gini, max_depth=20, min_samples_leaf=1, min_samples_split=10;, score=0.945 total time=   0.4s\n",
      "[CV 5/5] END criterion=gini, max_depth=20, min_samples_leaf=1, min_samples_split=10;, score=0.948 total time=   0.4s\n",
      "[CV 1/5] END criterion=gini, max_depth=20, min_samples_leaf=2, min_samples_split=5;, score=0.945 total time=   0.4s\n",
      "[CV 2/5] END criterion=gini, max_depth=20, min_samples_leaf=2, min_samples_split=5;, score=0.942 total time=   0.4s\n",
      "[CV 3/5] END criterion=gini, max_depth=20, min_samples_leaf=2, min_samples_split=5;, score=0.941 total time=   0.4s\n",
      "[CV 4/5] END criterion=gini, max_depth=20, min_samples_leaf=2, min_samples_split=5;, score=0.944 total time=   0.4s\n",
      "[CV 5/5] END criterion=gini, max_depth=20, min_samples_leaf=2, min_samples_split=5;, score=0.946 total time=   0.4s\n",
      "[CV 1/5] END criterion=gini, max_depth=20, min_samples_leaf=2, min_samples_split=10;, score=0.946 total time=   0.4s\n",
      "[CV 2/5] END criterion=gini, max_depth=20, min_samples_leaf=2, min_samples_split=10;, score=0.943 total time=   0.4s\n",
      "[CV 3/5] END criterion=gini, max_depth=20, min_samples_leaf=2, min_samples_split=10;, score=0.940 total time=   0.4s\n",
      "[CV 4/5] END criterion=gini, max_depth=20, min_samples_leaf=2, min_samples_split=10;, score=0.945 total time=   0.4s\n",
      "[CV 5/5] END criterion=gini, max_depth=20, min_samples_leaf=2, min_samples_split=10;, score=0.946 total time=   0.5s\n",
      "[CV 1/5] END criterion=entropy, max_depth=10, min_samples_leaf=1, min_samples_split=5;, score=0.940 total time=   0.2s\n",
      "[CV 2/5] END criterion=entropy, max_depth=10, min_samples_leaf=1, min_samples_split=5;, score=0.939 total time=   0.2s\n",
      "[CV 3/5] END criterion=entropy, max_depth=10, min_samples_leaf=1, min_samples_split=5;, score=0.938 total time=   0.2s\n",
      "[CV 4/5] END criterion=entropy, max_depth=10, min_samples_leaf=1, min_samples_split=5;, score=0.942 total time=   0.2s\n",
      "[CV 5/5] END criterion=entropy, max_depth=10, min_samples_leaf=1, min_samples_split=5;, score=0.941 total time=   0.3s\n",
      "[CV 1/5] END criterion=entropy, max_depth=10, min_samples_leaf=1, min_samples_split=10;, score=0.940 total time=   0.3s\n",
      "[CV 2/5] END criterion=entropy, max_depth=10, min_samples_leaf=1, min_samples_split=10;, score=0.939 total time=   0.2s\n",
      "[CV 3/5] END criterion=entropy, max_depth=10, min_samples_leaf=1, min_samples_split=10;, score=0.938 total time=   0.2s\n",
      "[CV 4/5] END criterion=entropy, max_depth=10, min_samples_leaf=1, min_samples_split=10;, score=0.942 total time=   0.2s\n",
      "[CV 5/5] END criterion=entropy, max_depth=10, min_samples_leaf=1, min_samples_split=10;, score=0.941 total time=   0.2s\n",
      "[CV 1/5] END criterion=entropy, max_depth=10, min_samples_leaf=2, min_samples_split=5;, score=0.940 total time=   0.3s\n",
      "[CV 2/5] END criterion=entropy, max_depth=10, min_samples_leaf=2, min_samples_split=5;, score=0.939 total time=   0.3s\n",
      "[CV 3/5] END criterion=entropy, max_depth=10, min_samples_leaf=2, min_samples_split=5;, score=0.938 total time=   0.3s\n",
      "[CV 4/5] END criterion=entropy, max_depth=10, min_samples_leaf=2, min_samples_split=5;, score=0.942 total time=   0.2s\n",
      "[CV 5/5] END criterion=entropy, max_depth=10, min_samples_leaf=2, min_samples_split=5;, score=0.941 total time=   0.2s\n",
      "[CV 1/5] END criterion=entropy, max_depth=10, min_samples_leaf=2, min_samples_split=10;, score=0.940 total time=   0.2s\n",
      "[CV 2/5] END criterion=entropy, max_depth=10, min_samples_leaf=2, min_samples_split=10;, score=0.939 total time=   0.3s\n",
      "[CV 3/5] END criterion=entropy, max_depth=10, min_samples_leaf=2, min_samples_split=10;, score=0.938 total time=   0.3s\n",
      "[CV 4/5] END criterion=entropy, max_depth=10, min_samples_leaf=2, min_samples_split=10;, score=0.942 total time=   0.3s\n",
      "[CV 5/5] END criterion=entropy, max_depth=10, min_samples_leaf=2, min_samples_split=10;, score=0.942 total time=   0.3s\n",
      "[CV 1/5] END criterion=entropy, max_depth=20, min_samples_leaf=1, min_samples_split=5;, score=0.944 total time=   0.3s\n",
      "[CV 2/5] END criterion=entropy, max_depth=20, min_samples_leaf=1, min_samples_split=5;, score=0.942 total time=   0.4s\n",
      "[CV 3/5] END criterion=entropy, max_depth=20, min_samples_leaf=1, min_samples_split=5;, score=0.943 total time=   0.4s\n",
      "[CV 4/5] END criterion=entropy, max_depth=20, min_samples_leaf=1, min_samples_split=5;, score=0.944 total time=   0.3s\n",
      "[CV 5/5] END criterion=entropy, max_depth=20, min_samples_leaf=1, min_samples_split=5;, score=0.944 total time=   0.3s\n",
      "[CV 1/5] END criterion=entropy, max_depth=20, min_samples_leaf=1, min_samples_split=10;, score=0.945 total time=   0.3s\n",
      "[CV 2/5] END criterion=entropy, max_depth=20, min_samples_leaf=1, min_samples_split=10;, score=0.943 total time=   0.4s\n",
      "[CV 3/5] END criterion=entropy, max_depth=20, min_samples_leaf=1, min_samples_split=10;, score=0.945 total time=   0.4s\n",
      "[CV 4/5] END criterion=entropy, max_depth=20, min_samples_leaf=1, min_samples_split=10;, score=0.945 total time=   0.3s\n",
      "[CV 5/5] END criterion=entropy, max_depth=20, min_samples_leaf=1, min_samples_split=10;, score=0.946 total time=   0.2s\n"
     ]
    },
    {
     "name": "stdout",
     "output_type": "stream",
     "text": [
      "[CV 1/5] END criterion=entropy, max_depth=20, min_samples_leaf=2, min_samples_split=5;, score=0.944 total time=   0.3s\n",
      "[CV 2/5] END criterion=entropy, max_depth=20, min_samples_leaf=2, min_samples_split=5;, score=0.941 total time=   0.3s\n",
      "[CV 3/5] END criterion=entropy, max_depth=20, min_samples_leaf=2, min_samples_split=5;, score=0.943 total time=   0.3s\n",
      "[CV 4/5] END criterion=entropy, max_depth=20, min_samples_leaf=2, min_samples_split=5;, score=0.944 total time=   0.4s\n",
      "[CV 5/5] END criterion=entropy, max_depth=20, min_samples_leaf=2, min_samples_split=5;, score=0.944 total time=   0.3s\n",
      "[CV 1/5] END criterion=entropy, max_depth=20, min_samples_leaf=2, min_samples_split=10;, score=0.943 total time=   0.3s\n",
      "[CV 2/5] END criterion=entropy, max_depth=20, min_samples_leaf=2, min_samples_split=10;, score=0.943 total time=   0.3s\n",
      "[CV 3/5] END criterion=entropy, max_depth=20, min_samples_leaf=2, min_samples_split=10;, score=0.945 total time=   0.4s\n",
      "[CV 4/5] END criterion=entropy, max_depth=20, min_samples_leaf=2, min_samples_split=10;, score=0.944 total time=   0.4s\n",
      "[CV 5/5] END criterion=entropy, max_depth=20, min_samples_leaf=2, min_samples_split=10;, score=0.946 total time=   0.3s\n",
      "Best Hyperparameters :  {'criterion': 'entropy', 'max_depth': 20, 'min_samples_leaf': 1, 'min_samples_split': 10}\n",
      "              precision    recall  f1-score   support\n",
      "\n",
      "           0       0.95      0.96      0.95     11875\n",
      "           1       0.94      0.93      0.94      8906\n",
      "\n",
      "    accuracy                           0.95     20781\n",
      "   macro avg       0.95      0.94      0.95     20781\n",
      "weighted avg       0.95      0.95      0.95     20781\n",
      "\n",
      "Accuracy :  0.9467301862278042\n"
     ]
    }
   ],
   "source": [
    "param_grid = {\n",
    "    'criterion': ['gini', 'entropy'],\n",
    "    'max_depth': [10, 20],\n",
    "    'min_samples_split': [5, 10],\n",
    "    'min_samples_leaf': [1, 2]\n",
    "}\n",
    "\n",
    "# Perform grid search cross-validation\n",
    "grid_search = GridSearchCV(DecisionTreeClassifier(), param_grid, verbose=3, cv=5, scoring='accuracy')\n",
    "grid_search.fit(xtrain, ytrain)\n",
    "\n",
    "best_params = grid_search.best_params_\n",
    "print(\"Best Hyperparameters : \", best_params)\n",
    "best_model = grid_search.best_estimator_\n",
    "best_model.fit(xtrain, ytrain)\n",
    "y_pred = best_model.predict(xtest)\n",
    "print(classification_report(ytest, y_pred))\n",
    "accuracy = accuracy_score(ytest, y_pred)\n",
    "print(\"Accuracy : \", accuracy)"
   ]
  },
  {
   "cell_type": "markdown",
   "id": "13cdc4dc",
   "metadata": {},
   "source": [
    "### Suport Vector Machine"
   ]
  },
  {
   "cell_type": "code",
   "execution_count": 66,
   "id": "130dc149",
   "metadata": {},
   "outputs": [],
   "source": [
    "svc=SVC()"
   ]
  },
  {
   "cell_type": "code",
   "execution_count": 67,
   "id": "50a8af38",
   "metadata": {},
   "outputs": [
    {
     "name": "stdout",
     "output_type": "stream",
     "text": [
      "Rlassification Report : \n",
      "              precision    recall  f1-score   support\n",
      "\n",
      "           0       0.94      0.97      0.95     11875\n",
      "           1       0.96      0.92      0.94      8906\n",
      "\n",
      "    accuracy                           0.95     20781\n",
      "   macro avg       0.95      0.94      0.95     20781\n",
      "weighted avg       0.95      0.95      0.95     20781\n",
      "\n"
     ]
    }
   ],
   "source": [
    "svc.fit(xtrain,ytrain)\n",
    "ypred=svc.predict(xtest)\n",
    "print(\"Rlassification Report : \")\n",
    "print(classification_report(ytest,ypred))"
   ]
  },
  {
   "cell_type": "markdown",
   "id": "20d55371",
   "metadata": {},
   "source": [
    "### Random Forest"
   ]
  },
  {
   "cell_type": "code",
   "execution_count": 68,
   "id": "ccf55c27",
   "metadata": {},
   "outputs": [],
   "source": [
    "rf=RandomForestClassifier()"
   ]
  },
  {
   "cell_type": "code",
   "execution_count": 69,
   "id": "1e7a816b",
   "metadata": {},
   "outputs": [
    {
     "name": "stdout",
     "output_type": "stream",
     "text": [
      "Rlassification Report : \n",
      "              precision    recall  f1-score   support\n",
      "\n",
      "           0       0.95      0.98      0.96     11875\n",
      "           1       0.97      0.93      0.95      8906\n",
      "\n",
      "    accuracy                           0.96     20781\n",
      "   macro avg       0.96      0.95      0.96     20781\n",
      "weighted avg       0.96      0.96      0.96     20781\n",
      "\n"
     ]
    }
   ],
   "source": [
    "rf.fit(xtrain,ytrain)\n",
    "ypred=rf.predict(xtest)\n",
    "print(\"Rlassification Report : \")\n",
    "print(classification_report(ytest,ypred))"
   ]
  },
  {
   "cell_type": "markdown",
   "id": "6122ddd9",
   "metadata": {},
   "source": [
    "### Boosting "
   ]
  },
  {
   "cell_type": "code",
   "execution_count": 70,
   "id": "594ad0e0",
   "metadata": {
    "scrolled": true
   },
   "outputs": [
    {
     "name": "stdout",
     "output_type": "stream",
     "text": [
      "              precision    recall  f1-score   support\n",
      "\n",
      "           0       0.92      0.93      0.92     11875\n",
      "           1       0.90      0.89      0.90      8906\n",
      "\n",
      "    accuracy                           0.91     20781\n",
      "   macro avg       0.91      0.91      0.91     20781\n",
      "weighted avg       0.91      0.91      0.91     20781\n",
      "\n"
     ]
    }
   ],
   "source": [
    "#AdaBoosting\n",
    "from sklearn.ensemble import AdaBoostClassifier\n",
    "ad=AdaBoostClassifier()\n",
    "ad.fit(xtrain,ytrain)\n",
    "ypred=ad.predict(xtest)\n",
    "print(classification_report(ytest,ypred))"
   ]
  },
  {
   "cell_type": "code",
   "execution_count": 71,
   "id": "6ed59da5",
   "metadata": {},
   "outputs": [
    {
     "name": "stdout",
     "output_type": "stream",
     "text": [
      "              precision    recall  f1-score   support\n",
      "\n",
      "           0       0.92      0.93      0.92     11875\n",
      "           1       0.90      0.89      0.90      8906\n",
      "\n",
      "    accuracy                           0.91     20781\n",
      "   macro avg       0.91      0.91      0.91     20781\n",
      "weighted avg       0.91      0.91      0.91     20781\n",
      "\n"
     ]
    }
   ],
   "source": [
    "#GBoost\n",
    "from sklearn.ensemble import GradientBoostingClassifier\n",
    "gd=GradientBoostingClassifier()\n",
    "gd.fit(xtrain,ytrain)\n",
    "ypred=ad.predict(xtest)\n",
    "print(classification_report(ytest,ypred))"
   ]
  },
  {
   "cell_type": "markdown",
   "id": "9a0d7fa9",
   "metadata": {},
   "source": [
    "## Accuracy Score\n",
    "1. Logistic Regression : Accuracy Score: 89%\n",
    "\n",
    "2. K-Nearest Neighbors (KNN) : Accuracy Score: 93%\n",
    "\n",
    "3. Support Vector Machine (SVM) : Accuracy Score: 95%\n",
    "\n",
    "4. Decision Tree (DT) : Accuracy Score: 95%\n",
    "\n",
    "5.  Random Forest : Accuracy Score: 96%"
   ]
  },
  {
   "cell_type": "markdown",
   "id": "4d41b33f",
   "metadata": {},
   "source": [
    "## conclusion \n",
    "\n",
    "Based on the accuracy scores obtained from the classification models:\n",
    "\n",
    "    Random Forest has the highest accuracy score of 96%, indicating that it performs the best among the models.\n",
    "\n",
    "    Support Vector Machine (SVM) and Decision Tree (DT) both achieved an accuracy score of 95%, which is slightly lower than Random Forest but still demonstrates strong performance in classification tasks.\n",
    "\n",
    "    K-Nearest Neighbors (KNN) achieved an accuracy score of 93%, showing good performance but slightly lower than SVM, DT, and Random Forest.\n",
    "\n",
    "    Logistic Regression has the lowest accuracy score of 89% among the models evaluated. While this accuracy is still respectable, it indicates comparatively weaker performance compared to the other models. "
   ]
  },
  {
   "cell_type": "markdown",
   "id": "e505644e",
   "metadata": {},
   "source": [
    "## Testing New Data "
   ]
  },
  {
   "cell_type": "code",
   "execution_count": 72,
   "id": "7201428f",
   "metadata": {
    "scrolled": true
   },
   "outputs": [
    {
     "data": {
      "text/plain": [
       "0    0\n",
       "1    0\n",
       "2    1\n",
       "3    0\n",
       "4    1\n",
       "5    0\n",
       "6    0\n",
       "7    1\n",
       "8    0\n",
       "9    0\n",
       "Name: satisfaction, dtype: int32"
      ]
     },
     "execution_count": 72,
     "metadata": {},
     "output_type": "execute_result"
    }
   ],
   "source": [
    "df['satisfaction'].head(10)"
   ]
  },
  {
   "cell_type": "markdown",
   "id": "d955deee",
   "metadata": {},
   "source": [
    "### Test 1 "
   ]
  },
  {
   "cell_type": "code",
   "execution_count": 95,
   "id": "2aee4659",
   "metadata": {
    "scrolled": true
   },
   "outputs": [
    {
     "data": {
      "text/plain": [
       "array([[26.0, 0, 33.793490497431605, 2.0, 2, 2, 2, 5, 5, 5, 5, 4, 3.0, 4,\n",
       "        4, 4, 5.0, 0.0, 0, 0, 0]], dtype=object)"
      ]
     },
     "execution_count": 95,
     "metadata": {},
     "output_type": "execute_result"
    }
   ],
   "source": [
    "test_data=x.iloc[2].values.reshape(1,-1)\n",
    "test_data"
   ]
  },
  {
   "cell_type": "code",
   "execution_count": 96,
   "id": "988d0bfd",
   "metadata": {},
   "outputs": [
    {
     "data": {
      "text/plain": [
       "array([[-0.88422856, -0.95811801,  0.15860397, -0.66276463, -0.92916688,\n",
       "        -0.69665008, -0.76472367,  1.3496498 ,  1.31503992,  1.18122869,\n",
       "         1.22918713,  0.47861045, -0.28515565,  0.31018744,  0.5469785 ,\n",
       "         0.30349785,  1.30090791, -0.39081956, -0.9867224 , -0.47320922,\n",
       "        -0.67112596]])"
      ]
     },
     "execution_count": 96,
     "metadata": {},
     "output_type": "execute_result"
    }
   ],
   "source": [
    "scaler.transform(test_data)"
   ]
  },
  {
   "cell_type": "code",
   "execution_count": 97,
   "id": "8739da6f",
   "metadata": {},
   "outputs": [
    {
     "name": "stdout",
     "output_type": "stream",
     "text": [
      "LogisticRegression\n"
     ]
    },
    {
     "data": {
      "text/plain": [
       "array([1])"
      ]
     },
     "execution_count": 97,
     "metadata": {},
     "output_type": "execute_result"
    }
   ],
   "source": [
    "print('LogisticRegression')\n",
    "best_lr.predict(scaler.transform(test_data))"
   ]
  },
  {
   "cell_type": "code",
   "execution_count": 98,
   "id": "36ad8319",
   "metadata": {},
   "outputs": [
    {
     "name": "stdout",
     "output_type": "stream",
     "text": [
      "KNeighborsClassifier\n"
     ]
    },
    {
     "data": {
      "text/plain": [
       "array([1])"
      ]
     },
     "execution_count": 98,
     "metadata": {},
     "output_type": "execute_result"
    }
   ],
   "source": [
    "print('KNeighborsClassifier')\n",
    "knn.predict(scaler.transform(test_data))"
   ]
  },
  {
   "cell_type": "code",
   "execution_count": 99,
   "id": "f2d4be51",
   "metadata": {},
   "outputs": [
    {
     "name": "stdout",
     "output_type": "stream",
     "text": [
      "SVM\n"
     ]
    },
    {
     "data": {
      "text/plain": [
       "array([1])"
      ]
     },
     "execution_count": 99,
     "metadata": {},
     "output_type": "execute_result"
    }
   ],
   "source": [
    "print('SVM')\n",
    "svc.predict(scaler.transform(test_data))"
   ]
  },
  {
   "cell_type": "code",
   "execution_count": 100,
   "id": "13f4e525",
   "metadata": {},
   "outputs": [
    {
     "name": "stdout",
     "output_type": "stream",
     "text": [
      "DecisionTreeClassifier\n"
     ]
    },
    {
     "data": {
      "text/plain": [
       "array([1])"
      ]
     },
     "execution_count": 100,
     "metadata": {},
     "output_type": "execute_result"
    }
   ],
   "source": [
    "print('DecisionTreeClassifier')\n",
    "best_model.predict(scaler.transform(test_data))"
   ]
  },
  {
   "cell_type": "code",
   "execution_count": 101,
   "id": "636364c2",
   "metadata": {},
   "outputs": [
    {
     "name": "stdout",
     "output_type": "stream",
     "text": [
      "RandomForestClassifier\n"
     ]
    },
    {
     "data": {
      "text/plain": [
       "array([1])"
      ]
     },
     "execution_count": 101,
     "metadata": {},
     "output_type": "execute_result"
    }
   ],
   "source": [
    "print('RandomForestClassifier')\n",
    "rf.predict(scaler.transform(test_data))"
   ]
  },
  {
   "cell_type": "markdown",
   "id": "d956fbb9",
   "metadata": {},
   "source": [
    "### Test 2 "
   ]
  },
  {
   "cell_type": "code",
   "execution_count": 80,
   "id": "7732dccb",
   "metadata": {},
   "outputs": [
    {
     "data": {
      "text/plain": [
       "array([[52.0, 0, 45.110974274559844, 4.0, 3, 4, 4, 5, 5, 5, 5, 5, 5.0, 5,\n",
       "        4, 5, 4.0, 0.0, 0, 0, 0]], dtype=object)"
      ]
     },
     "execution_count": 80,
     "metadata": {},
     "output_type": "execute_result"
    }
   ],
   "source": [
    "test_data=x.iloc[7].values.reshape(1,-1)\n",
    "test_data"
   ]
  },
  {
   "cell_type": "code",
   "execution_count": 81,
   "id": "890f1e38",
   "metadata": {},
   "outputs": [
    {
     "name": "stdout",
     "output_type": "stream",
     "text": [
      "LogisticRegression\n"
     ]
    },
    {
     "data": {
      "text/plain": [
       "array([1])"
      ]
     },
     "execution_count": 81,
     "metadata": {},
     "output_type": "execute_result"
    }
   ],
   "source": [
    "print('LogisticRegression')\n",
    "best_lr.predict(scaler.transform(test_data))"
   ]
  },
  {
   "cell_type": "code",
   "execution_count": 82,
   "id": "a12f4e12",
   "metadata": {},
   "outputs": [
    {
     "name": "stdout",
     "output_type": "stream",
     "text": [
      "KNeighborsClassifier\n"
     ]
    },
    {
     "data": {
      "text/plain": [
       "array([1])"
      ]
     },
     "execution_count": 82,
     "metadata": {},
     "output_type": "execute_result"
    }
   ],
   "source": [
    "print('KNeighborsClassifier')\n",
    "knn.predict(scaler.transform(test_data))"
   ]
  },
  {
   "cell_type": "code",
   "execution_count": 83,
   "id": "578b5c6a",
   "metadata": {},
   "outputs": [
    {
     "name": "stdout",
     "output_type": "stream",
     "text": [
      "SVM\n"
     ]
    },
    {
     "data": {
      "text/plain": [
       "array([1])"
      ]
     },
     "execution_count": 83,
     "metadata": {},
     "output_type": "execute_result"
    }
   ],
   "source": [
    "print('SVM')\n",
    "svc.predict(scaler.transform(test_data))"
   ]
  },
  {
   "cell_type": "code",
   "execution_count": 84,
   "id": "b13328d3",
   "metadata": {},
   "outputs": [
    {
     "name": "stdout",
     "output_type": "stream",
     "text": [
      "DecisionTreeClassifier\n"
     ]
    },
    {
     "data": {
      "text/plain": [
       "array([1])"
      ]
     },
     "execution_count": 84,
     "metadata": {},
     "output_type": "execute_result"
    }
   ],
   "source": [
    "print('DecisionTreeClassifier')\n",
    "best_model.predict(scaler.transform(test_data))"
   ]
  },
  {
   "cell_type": "code",
   "execution_count": 85,
   "id": "ae898bd5",
   "metadata": {},
   "outputs": [
    {
     "name": "stdout",
     "output_type": "stream",
     "text": [
      "RandomForestClassifier\n"
     ]
    },
    {
     "data": {
      "text/plain": [
       "array([1])"
      ]
     },
     "execution_count": 85,
     "metadata": {},
     "output_type": "execute_result"
    }
   ],
   "source": [
    "print('RandomForestClassifier')\n",
    "rf.predict(scaler.transform(test_data))"
   ]
  },
  {
   "cell_type": "markdown",
   "id": "19b75263",
   "metadata": {},
   "source": [
    "### Predictions of all models are correct"
   ]
  },
  {
   "cell_type": "code",
   "execution_count": 86,
   "id": "2c65a867",
   "metadata": {},
   "outputs": [],
   "source": [
    "import pickle"
   ]
  },
  {
   "cell_type": "code",
   "execution_count": 87,
   "id": "52f36531",
   "metadata": {},
   "outputs": [],
   "source": [
    "pickle_lr=open('LRmodel.pkl', 'wb')\n",
    "pickle.dump(best_lr, pickle_lr)\n",
    "pickle_lr.close()"
   ]
  },
  {
   "cell_type": "code",
   "execution_count": 88,
   "id": "ff4f4c5e",
   "metadata": {},
   "outputs": [
    {
     "data": {
      "text/plain": [
       "array([0])"
      ]
     },
     "execution_count": 88,
     "metadata": {},
     "output_type": "execute_result"
    }
   ],
   "source": [
    "test_data=x.iloc[6].values.reshape(1,-1)\n",
    "test_data\n",
    "\n",
    "with open('LRmodel.pkl', 'rb') as file:\n",
    "    model = pickle.load(file)\n",
    "\n",
    "# Make a prediction\n",
    "prediction = model.predict(scaler.transform(test_data))\n",
    "prediction"
   ]
  },
  {
   "cell_type": "code",
   "execution_count": 89,
   "id": "9a0a8702",
   "metadata": {},
   "outputs": [],
   "source": [
    "# pip install streamlit_option_menu"
   ]
  },
  {
   "cell_type": "code",
   "execution_count": 90,
   "id": "ae64deaa",
   "metadata": {},
   "outputs": [
    {
     "data": {
      "text/plain": [
       "Index(['Age', 'Class', 'Flight Distance', 'Inflight wifi service',\n",
       "       'Departure/Arrival time convenient', 'Ease of Online booking',\n",
       "       'Gate location', 'Food and drink', 'Online boarding', 'Seat comfort',\n",
       "       'Inflight entertainment', 'On-board service', 'Leg room service',\n",
       "       'Baggage handling', 'Checkin service', 'Inflight service',\n",
       "       'Cleanliness', 'Arrival Delay in Minutes', 'satisfaction',\n",
       "       'Gender_Male', 'Customer Type_disloyal Customer',\n",
       "       'Type of Travel_Personal Travel'],\n",
       "      dtype='object')"
      ]
     },
     "execution_count": 90,
     "metadata": {},
     "output_type": "execute_result"
    }
   ],
   "source": [
    "df.columns"
   ]
  },
  {
   "cell_type": "code",
   "execution_count": 91,
   "id": "8079ad61",
   "metadata": {
    "scrolled": false
   },
   "outputs": [
    {
     "data": {
      "text/html": [
       "<div>\n",
       "<style scoped>\n",
       "    .dataframe tbody tr th:only-of-type {\n",
       "        vertical-align: middle;\n",
       "    }\n",
       "\n",
       "    .dataframe tbody tr th {\n",
       "        vertical-align: top;\n",
       "    }\n",
       "\n",
       "    .dataframe thead th {\n",
       "        text-align: right;\n",
       "    }\n",
       "</style>\n",
       "<table border=\"1\" class=\"dataframe\">\n",
       "  <thead>\n",
       "    <tr style=\"text-align: right;\">\n",
       "      <th></th>\n",
       "      <th>Age</th>\n",
       "      <th>Class</th>\n",
       "      <th>Flight Distance</th>\n",
       "      <th>Inflight wifi service</th>\n",
       "      <th>Departure/Arrival time convenient</th>\n",
       "      <th>Ease of Online booking</th>\n",
       "      <th>Gate location</th>\n",
       "      <th>Food and drink</th>\n",
       "      <th>Online boarding</th>\n",
       "      <th>Seat comfort</th>\n",
       "      <th>...</th>\n",
       "      <th>Leg room service</th>\n",
       "      <th>Baggage handling</th>\n",
       "      <th>Checkin service</th>\n",
       "      <th>Inflight service</th>\n",
       "      <th>Cleanliness</th>\n",
       "      <th>Arrival Delay in Minutes</th>\n",
       "      <th>satisfaction</th>\n",
       "      <th>Gender_Male</th>\n",
       "      <th>Customer Type_disloyal Customer</th>\n",
       "      <th>Type of Travel_Personal Travel</th>\n",
       "    </tr>\n",
       "  </thead>\n",
       "  <tbody>\n",
       "    <tr>\n",
       "      <th>0</th>\n",
       "      <td>13.0</td>\n",
       "      <td>2</td>\n",
       "      <td>21.447611</td>\n",
       "      <td>3.0</td>\n",
       "      <td>4</td>\n",
       "      <td>3</td>\n",
       "      <td>1</td>\n",
       "      <td>5</td>\n",
       "      <td>3</td>\n",
       "      <td>5</td>\n",
       "      <td>...</td>\n",
       "      <td>3.0</td>\n",
       "      <td>4</td>\n",
       "      <td>4</td>\n",
       "      <td>5</td>\n",
       "      <td>5.0</td>\n",
       "      <td>18.0</td>\n",
       "      <td>0</td>\n",
       "      <td>1</td>\n",
       "      <td>0</td>\n",
       "      <td>1</td>\n",
       "    </tr>\n",
       "  </tbody>\n",
       "</table>\n",
       "<p>1 rows × 22 columns</p>\n",
       "</div>"
      ],
      "text/plain": [
       "    Age  Class  Flight Distance Inflight wifi service  \\\n",
       "0  13.0      2        21.447611                   3.0   \n",
       "\n",
       "  Departure/Arrival time convenient Ease of Online booking Gate location  \\\n",
       "0                                 4                      3             1   \n",
       "\n",
       "  Food and drink Online boarding Seat comfort  ... Leg room service  \\\n",
       "0              5               3            5  ...              3.0   \n",
       "\n",
       "  Baggage handling Checkin service Inflight service Cleanliness  \\\n",
       "0                4               4                5         5.0   \n",
       "\n",
       "  Arrival Delay in Minutes satisfaction  Gender_Male  \\\n",
       "0                     18.0            0            1   \n",
       "\n",
       "   Customer Type_disloyal Customer  Type of Travel_Personal Travel  \n",
       "0                                0                               1  \n",
       "\n",
       "[1 rows x 22 columns]"
      ]
     },
     "execution_count": 91,
     "metadata": {},
     "output_type": "execute_result"
    }
   ],
   "source": [
    "df.head(1)"
   ]
  },
  {
   "cell_type": "code",
   "execution_count": 92,
   "id": "0229f5bf",
   "metadata": {
    "scrolled": true
   },
   "outputs": [
    {
     "data": {
      "text/html": [
       "<div>\n",
       "<style scoped>\n",
       "    .dataframe tbody tr th:only-of-type {\n",
       "        vertical-align: middle;\n",
       "    }\n",
       "\n",
       "    .dataframe tbody tr th {\n",
       "        vertical-align: top;\n",
       "    }\n",
       "\n",
       "    .dataframe thead th {\n",
       "        text-align: right;\n",
       "    }\n",
       "</style>\n",
       "<table border=\"1\" class=\"dataframe\">\n",
       "  <thead>\n",
       "    <tr style=\"text-align: right;\">\n",
       "      <th></th>\n",
       "      <th>Age</th>\n",
       "      <th>Class</th>\n",
       "      <th>Flight Distance</th>\n",
       "      <th>Inflight wifi service</th>\n",
       "      <th>Departure/Arrival time convenient</th>\n",
       "      <th>Ease of Online booking</th>\n",
       "      <th>Gate location</th>\n",
       "      <th>Food and drink</th>\n",
       "      <th>Online boarding</th>\n",
       "      <th>Seat comfort</th>\n",
       "      <th>...</th>\n",
       "      <th>On-board service</th>\n",
       "      <th>Leg room service</th>\n",
       "      <th>Baggage handling</th>\n",
       "      <th>Checkin service</th>\n",
       "      <th>Inflight service</th>\n",
       "      <th>Cleanliness</th>\n",
       "      <th>Arrival Delay in Minutes</th>\n",
       "      <th>Gender_Male</th>\n",
       "      <th>Customer Type_disloyal Customer</th>\n",
       "      <th>Type of Travel_Personal Travel</th>\n",
       "    </tr>\n",
       "  </thead>\n",
       "  <tbody>\n",
       "    <tr>\n",
       "      <th>0</th>\n",
       "      <td>13.0</td>\n",
       "      <td>2</td>\n",
       "      <td>21.447611</td>\n",
       "      <td>3.0</td>\n",
       "      <td>4</td>\n",
       "      <td>3</td>\n",
       "      <td>1</td>\n",
       "      <td>5</td>\n",
       "      <td>3</td>\n",
       "      <td>5</td>\n",
       "      <td>...</td>\n",
       "      <td>4</td>\n",
       "      <td>3.0</td>\n",
       "      <td>4</td>\n",
       "      <td>4</td>\n",
       "      <td>5</td>\n",
       "      <td>5.0</td>\n",
       "      <td>18.0</td>\n",
       "      <td>1</td>\n",
       "      <td>0</td>\n",
       "      <td>1</td>\n",
       "    </tr>\n",
       "  </tbody>\n",
       "</table>\n",
       "<p>1 rows × 21 columns</p>\n",
       "</div>"
      ],
      "text/plain": [
       "    Age  Class  Flight Distance Inflight wifi service  \\\n",
       "0  13.0      2        21.447611                   3.0   \n",
       "\n",
       "  Departure/Arrival time convenient Ease of Online booking Gate location  \\\n",
       "0                                 4                      3             1   \n",
       "\n",
       "  Food and drink Online boarding Seat comfort  ... On-board service  \\\n",
       "0              5               3            5  ...                4   \n",
       "\n",
       "  Leg room service Baggage handling Checkin service Inflight service  \\\n",
       "0              3.0                4               4                5   \n",
       "\n",
       "  Cleanliness Arrival Delay in Minutes  Gender_Male  \\\n",
       "0         5.0                     18.0            1   \n",
       "\n",
       "   Customer Type_disloyal Customer  Type of Travel_Personal Travel  \n",
       "0                                0                               1  \n",
       "\n",
       "[1 rows x 21 columns]"
      ]
     },
     "execution_count": 92,
     "metadata": {},
     "output_type": "execute_result"
    }
   ],
   "source": [
    "x.head(1)"
   ]
  },
  {
   "cell_type": "code",
   "execution_count": 93,
   "id": "20ebda04",
   "metadata": {
    "scrolled": false
   },
   "outputs": [
    {
     "name": "stdout",
     "output_type": "stream",
     "text": [
      "Age\n",
      "Class\n",
      "Flight Distance\n",
      "Inflight wifi service\n",
      "Departure/Arrival time convenient\n",
      "Ease of Online booking\n",
      "Gate location\n",
      "Food and drink\n",
      "Online boarding\n",
      "Seat comfort\n",
      "Inflight entertainment\n",
      "On-board service\n",
      "Leg room service\n",
      "Baggage handling\n",
      "Checkin service\n",
      "Inflight service\n",
      "Cleanliness\n",
      "Arrival Delay in Minutes\n",
      "Gender_Male\n",
      "Customer Type_disloyal Customer\n",
      "Type of Travel_Personal Travel\n"
     ]
    }
   ],
   "source": [
    "for i in x.columns:\n",
    "    print(i)"
   ]
  },
  {
   "cell_type": "code",
   "execution_count": 94,
   "id": "5548accb",
   "metadata": {},
   "outputs": [
    {
     "data": {
      "text/html": [
       "<div>\n",
       "<style scoped>\n",
       "    .dataframe tbody tr th:only-of-type {\n",
       "        vertical-align: middle;\n",
       "    }\n",
       "\n",
       "    .dataframe tbody tr th {\n",
       "        vertical-align: top;\n",
       "    }\n",
       "\n",
       "    .dataframe thead th {\n",
       "        text-align: right;\n",
       "    }\n",
       "</style>\n",
       "<table border=\"1\" class=\"dataframe\">\n",
       "  <thead>\n",
       "    <tr style=\"text-align: right;\">\n",
       "      <th></th>\n",
       "      <th>Age</th>\n",
       "      <th>Class</th>\n",
       "      <th>Flight Distance</th>\n",
       "      <th>Inflight wifi service</th>\n",
       "      <th>Departure/Arrival time convenient</th>\n",
       "      <th>Ease of Online booking</th>\n",
       "      <th>Gate location</th>\n",
       "      <th>Food and drink</th>\n",
       "      <th>Online boarding</th>\n",
       "      <th>Seat comfort</th>\n",
       "      <th>...</th>\n",
       "      <th>Leg room service</th>\n",
       "      <th>Baggage handling</th>\n",
       "      <th>Checkin service</th>\n",
       "      <th>Inflight service</th>\n",
       "      <th>Cleanliness</th>\n",
       "      <th>Arrival Delay in Minutes</th>\n",
       "      <th>satisfaction</th>\n",
       "      <th>Gender_Male</th>\n",
       "      <th>Customer Type_disloyal Customer</th>\n",
       "      <th>Type of Travel_Personal Travel</th>\n",
       "    </tr>\n",
       "  </thead>\n",
       "  <tbody>\n",
       "    <tr>\n",
       "      <th>0</th>\n",
       "      <td>13.0</td>\n",
       "      <td>2</td>\n",
       "      <td>21.447611</td>\n",
       "      <td>3.0</td>\n",
       "      <td>4</td>\n",
       "      <td>3</td>\n",
       "      <td>1</td>\n",
       "      <td>5</td>\n",
       "      <td>3</td>\n",
       "      <td>5</td>\n",
       "      <td>...</td>\n",
       "      <td>3.0</td>\n",
       "      <td>4</td>\n",
       "      <td>4</td>\n",
       "      <td>5</td>\n",
       "      <td>5.0</td>\n",
       "      <td>18.0</td>\n",
       "      <td>0</td>\n",
       "      <td>1</td>\n",
       "      <td>0</td>\n",
       "      <td>1</td>\n",
       "    </tr>\n",
       "    <tr>\n",
       "      <th>1</th>\n",
       "      <td>25.0</td>\n",
       "      <td>0</td>\n",
       "      <td>15.329710</td>\n",
       "      <td>3.0</td>\n",
       "      <td>2</td>\n",
       "      <td>3</td>\n",
       "      <td>3</td>\n",
       "      <td>1</td>\n",
       "      <td>3</td>\n",
       "      <td>1</td>\n",
       "      <td>...</td>\n",
       "      <td>5.0</td>\n",
       "      <td>3</td>\n",
       "      <td>1</td>\n",
       "      <td>4</td>\n",
       "      <td>1.0</td>\n",
       "      <td>6.0</td>\n",
       "      <td>0</td>\n",
       "      <td>1</td>\n",
       "      <td>1</td>\n",
       "      <td>0</td>\n",
       "    </tr>\n",
       "    <tr>\n",
       "      <th>2</th>\n",
       "      <td>26.0</td>\n",
       "      <td>0</td>\n",
       "      <td>33.793490</td>\n",
       "      <td>2.0</td>\n",
       "      <td>2</td>\n",
       "      <td>2</td>\n",
       "      <td>2</td>\n",
       "      <td>5</td>\n",
       "      <td>5</td>\n",
       "      <td>5</td>\n",
       "      <td>...</td>\n",
       "      <td>3.0</td>\n",
       "      <td>4</td>\n",
       "      <td>4</td>\n",
       "      <td>4</td>\n",
       "      <td>5.0</td>\n",
       "      <td>0.0</td>\n",
       "      <td>1</td>\n",
       "      <td>0</td>\n",
       "      <td>0</td>\n",
       "      <td>0</td>\n",
       "    </tr>\n",
       "    <tr>\n",
       "      <th>3</th>\n",
       "      <td>25.0</td>\n",
       "      <td>0</td>\n",
       "      <td>23.706539</td>\n",
       "      <td>2.0</td>\n",
       "      <td>5</td>\n",
       "      <td>5</td>\n",
       "      <td>5</td>\n",
       "      <td>2</td>\n",
       "      <td>2</td>\n",
       "      <td>2</td>\n",
       "      <td>...</td>\n",
       "      <td>5.0</td>\n",
       "      <td>3</td>\n",
       "      <td>1</td>\n",
       "      <td>4</td>\n",
       "      <td>2.0</td>\n",
       "      <td>9.0</td>\n",
       "      <td>0</td>\n",
       "      <td>0</td>\n",
       "      <td>0</td>\n",
       "      <td>0</td>\n",
       "    </tr>\n",
       "    <tr>\n",
       "      <th>4</th>\n",
       "      <td>61.0</td>\n",
       "      <td>0</td>\n",
       "      <td>14.628739</td>\n",
       "      <td>3.0</td>\n",
       "      <td>3</td>\n",
       "      <td>3</td>\n",
       "      <td>3</td>\n",
       "      <td>4</td>\n",
       "      <td>5</td>\n",
       "      <td>5</td>\n",
       "      <td>...</td>\n",
       "      <td>4.0</td>\n",
       "      <td>4</td>\n",
       "      <td>3</td>\n",
       "      <td>3</td>\n",
       "      <td>3.0</td>\n",
       "      <td>0.0</td>\n",
       "      <td>1</td>\n",
       "      <td>1</td>\n",
       "      <td>0</td>\n",
       "      <td>0</td>\n",
       "    </tr>\n",
       "    <tr>\n",
       "      <th>5</th>\n",
       "      <td>26.0</td>\n",
       "      <td>1</td>\n",
       "      <td>34.351128</td>\n",
       "      <td>3.0</td>\n",
       "      <td>4</td>\n",
       "      <td>2</td>\n",
       "      <td>1</td>\n",
       "      <td>1</td>\n",
       "      <td>2</td>\n",
       "      <td>1</td>\n",
       "      <td>...</td>\n",
       "      <td>4.0</td>\n",
       "      <td>4</td>\n",
       "      <td>4</td>\n",
       "      <td>4</td>\n",
       "      <td>1.0</td>\n",
       "      <td>0.0</td>\n",
       "      <td>0</td>\n",
       "      <td>0</td>\n",
       "      <td>0</td>\n",
       "      <td>1</td>\n",
       "    </tr>\n",
       "    <tr>\n",
       "      <th>6</th>\n",
       "      <td>47.0</td>\n",
       "      <td>1</td>\n",
       "      <td>35.721142</td>\n",
       "      <td>2.0</td>\n",
       "      <td>4</td>\n",
       "      <td>2</td>\n",
       "      <td>3</td>\n",
       "      <td>2</td>\n",
       "      <td>2</td>\n",
       "      <td>2</td>\n",
       "      <td>...</td>\n",
       "      <td>3.0</td>\n",
       "      <td>4</td>\n",
       "      <td>3</td>\n",
       "      <td>5</td>\n",
       "      <td>2.0</td>\n",
       "      <td>23.0</td>\n",
       "      <td>0</td>\n",
       "      <td>1</td>\n",
       "      <td>0</td>\n",
       "      <td>1</td>\n",
       "    </tr>\n",
       "    <tr>\n",
       "      <th>7</th>\n",
       "      <td>52.0</td>\n",
       "      <td>0</td>\n",
       "      <td>45.110974</td>\n",
       "      <td>4.0</td>\n",
       "      <td>3</td>\n",
       "      <td>4</td>\n",
       "      <td>4</td>\n",
       "      <td>5</td>\n",
       "      <td>5</td>\n",
       "      <td>5</td>\n",
       "      <td>...</td>\n",
       "      <td>5.0</td>\n",
       "      <td>5</td>\n",
       "      <td>4</td>\n",
       "      <td>5</td>\n",
       "      <td>4.0</td>\n",
       "      <td>0.0</td>\n",
       "      <td>1</td>\n",
       "      <td>0</td>\n",
       "      <td>0</td>\n",
       "      <td>0</td>\n",
       "    </tr>\n",
       "    <tr>\n",
       "      <th>8</th>\n",
       "      <td>41.0</td>\n",
       "      <td>0</td>\n",
       "      <td>29.206164</td>\n",
       "      <td>1.0</td>\n",
       "      <td>2</td>\n",
       "      <td>2</td>\n",
       "      <td>2</td>\n",
       "      <td>4</td>\n",
       "      <td>3</td>\n",
       "      <td>3</td>\n",
       "      <td>...</td>\n",
       "      <td>2.0</td>\n",
       "      <td>1</td>\n",
       "      <td>4</td>\n",
       "      <td>1</td>\n",
       "      <td>2.0</td>\n",
       "      <td>0.0</td>\n",
       "      <td>0</td>\n",
       "      <td>0</td>\n",
       "      <td>0</td>\n",
       "      <td>0</td>\n",
       "    </tr>\n",
       "    <tr>\n",
       "      <th>9</th>\n",
       "      <td>20.0</td>\n",
       "      <td>1</td>\n",
       "      <td>32.572995</td>\n",
       "      <td>3.0</td>\n",
       "      <td>3</td>\n",
       "      <td>3</td>\n",
       "      <td>4</td>\n",
       "      <td>2</td>\n",
       "      <td>3</td>\n",
       "      <td>3</td>\n",
       "      <td>...</td>\n",
       "      <td>3.0</td>\n",
       "      <td>4</td>\n",
       "      <td>4</td>\n",
       "      <td>3</td>\n",
       "      <td>2.0</td>\n",
       "      <td>0.0</td>\n",
       "      <td>0</td>\n",
       "      <td>1</td>\n",
       "      <td>1</td>\n",
       "      <td>0</td>\n",
       "    </tr>\n",
       "  </tbody>\n",
       "</table>\n",
       "<p>10 rows × 22 columns</p>\n",
       "</div>"
      ],
      "text/plain": [
       "    Age  Class  Flight Distance Inflight wifi service  \\\n",
       "0  13.0      2        21.447611                   3.0   \n",
       "1  25.0      0        15.329710                   3.0   \n",
       "2  26.0      0        33.793490                   2.0   \n",
       "3  25.0      0        23.706539                   2.0   \n",
       "4  61.0      0        14.628739                   3.0   \n",
       "5  26.0      1        34.351128                   3.0   \n",
       "6  47.0      1        35.721142                   2.0   \n",
       "7  52.0      0        45.110974                   4.0   \n",
       "8  41.0      0        29.206164                   1.0   \n",
       "9  20.0      1        32.572995                   3.0   \n",
       "\n",
       "  Departure/Arrival time convenient Ease of Online booking Gate location  \\\n",
       "0                                 4                      3             1   \n",
       "1                                 2                      3             3   \n",
       "2                                 2                      2             2   \n",
       "3                                 5                      5             5   \n",
       "4                                 3                      3             3   \n",
       "5                                 4                      2             1   \n",
       "6                                 4                      2             3   \n",
       "7                                 3                      4             4   \n",
       "8                                 2                      2             2   \n",
       "9                                 3                      3             4   \n",
       "\n",
       "  Food and drink Online boarding Seat comfort  ... Leg room service  \\\n",
       "0              5               3            5  ...              3.0   \n",
       "1              1               3            1  ...              5.0   \n",
       "2              5               5            5  ...              3.0   \n",
       "3              2               2            2  ...              5.0   \n",
       "4              4               5            5  ...              4.0   \n",
       "5              1               2            1  ...              4.0   \n",
       "6              2               2            2  ...              3.0   \n",
       "7              5               5            5  ...              5.0   \n",
       "8              4               3            3  ...              2.0   \n",
       "9              2               3            3  ...              3.0   \n",
       "\n",
       "  Baggage handling Checkin service Inflight service Cleanliness  \\\n",
       "0                4               4                5         5.0   \n",
       "1                3               1                4         1.0   \n",
       "2                4               4                4         5.0   \n",
       "3                3               1                4         2.0   \n",
       "4                4               3                3         3.0   \n",
       "5                4               4                4         1.0   \n",
       "6                4               3                5         2.0   \n",
       "7                5               4                5         4.0   \n",
       "8                1               4                1         2.0   \n",
       "9                4               4                3         2.0   \n",
       "\n",
       "  Arrival Delay in Minutes satisfaction  Gender_Male  \\\n",
       "0                     18.0            0            1   \n",
       "1                      6.0            0            1   \n",
       "2                      0.0            1            0   \n",
       "3                      9.0            0            0   \n",
       "4                      0.0            1            1   \n",
       "5                      0.0            0            0   \n",
       "6                     23.0            0            1   \n",
       "7                      0.0            1            0   \n",
       "8                      0.0            0            0   \n",
       "9                      0.0            0            1   \n",
       "\n",
       "   Customer Type_disloyal Customer  Type of Travel_Personal Travel  \n",
       "0                                0                               1  \n",
       "1                                1                               0  \n",
       "2                                0                               0  \n",
       "3                                0                               0  \n",
       "4                                0                               0  \n",
       "5                                0                               1  \n",
       "6                                0                               1  \n",
       "7                                0                               0  \n",
       "8                                0                               0  \n",
       "9                                1                               0  \n",
       "\n",
       "[10 rows x 22 columns]"
      ]
     },
     "execution_count": 94,
     "metadata": {},
     "output_type": "execute_result"
    }
   ],
   "source": [
    "# age, class, flight distance, wifi, time convi, \n",
    "df.head(10)"
   ]
  }
 ],
 "metadata": {
  "kernelspec": {
   "display_name": "Python 3 (ipykernel)",
   "language": "python",
   "name": "python3"
  },
  "language_info": {
   "codemirror_mode": {
    "name": "ipython",
    "version": 3
   },
   "file_extension": ".py",
   "mimetype": "text/x-python",
   "name": "python",
   "nbconvert_exporter": "python",
   "pygments_lexer": "ipython3",
   "version": "3.9.12"
  }
 },
 "nbformat": 4,
 "nbformat_minor": 5
}
